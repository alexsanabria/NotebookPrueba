{
 "cells": [
  {
   "cell_type": "code",
   "execution_count": 338,
   "id": "skilled-company",
   "metadata": {},
   "outputs": [],
   "source": [
    "import pandas as pd\n",
    "import matplotlib.pyplot as plt\n",
    "import seaborn as sns\n",
    "import plotly.graph_objs as go\n",
    "from plotly.offline import iplot\n",
    "import collections\n",
    "import numpy as np"
   ]
  },
  {
   "cell_type": "markdown",
   "id": "wrapped-weapon",
   "metadata": {},
   "source": [
    "### Cargar los datos de asesinatos "
   ]
  },
  {
   "cell_type": "code",
   "execution_count": 339,
   "id": "greek-railway",
   "metadata": {},
   "outputs": [
    {
     "data": {
      "text/html": [
       "<div>\n",
       "<style scoped>\n",
       "    .dataframe tbody tr th:only-of-type {\n",
       "        vertical-align: middle;\n",
       "    }\n",
       "\n",
       "    .dataframe tbody tr th {\n",
       "        vertical-align: top;\n",
       "    }\n",
       "\n",
       "    .dataframe thead th {\n",
       "        text-align: right;\n",
       "    }\n",
       "</style>\n",
       "<table border=\"1\" class=\"dataframe\">\n",
       "  <thead>\n",
       "    <tr style=\"text-align: right;\">\n",
       "      <th></th>\n",
       "      <th>id</th>\n",
       "      <th>name</th>\n",
       "      <th>date</th>\n",
       "      <th>manner_of_death</th>\n",
       "      <th>armed</th>\n",
       "      <th>age</th>\n",
       "      <th>gender</th>\n",
       "      <th>race</th>\n",
       "      <th>city</th>\n",
       "      <th>state</th>\n",
       "      <th>signs_of_mental_illness</th>\n",
       "      <th>threat_level</th>\n",
       "      <th>flee</th>\n",
       "      <th>body_camera</th>\n",
       "    </tr>\n",
       "  </thead>\n",
       "  <tbody>\n",
       "    <tr>\n",
       "      <th>0</th>\n",
       "      <td>3</td>\n",
       "      <td>Tim Elliot</td>\n",
       "      <td>2015-02-01</td>\n",
       "      <td>shot</td>\n",
       "      <td>gun</td>\n",
       "      <td>53.0</td>\n",
       "      <td>M</td>\n",
       "      <td>A</td>\n",
       "      <td>Shelton</td>\n",
       "      <td>WA</td>\n",
       "      <td>True</td>\n",
       "      <td>attack</td>\n",
       "      <td>Not fleeing</td>\n",
       "      <td>False</td>\n",
       "    </tr>\n",
       "    <tr>\n",
       "      <th>1</th>\n",
       "      <td>4</td>\n",
       "      <td>Lewis Lee Lembke</td>\n",
       "      <td>2015-02-01</td>\n",
       "      <td>shot</td>\n",
       "      <td>gun</td>\n",
       "      <td>47.0</td>\n",
       "      <td>M</td>\n",
       "      <td>W</td>\n",
       "      <td>Aloha</td>\n",
       "      <td>OR</td>\n",
       "      <td>False</td>\n",
       "      <td>attack</td>\n",
       "      <td>Not fleeing</td>\n",
       "      <td>False</td>\n",
       "    </tr>\n",
       "    <tr>\n",
       "      <th>2</th>\n",
       "      <td>5</td>\n",
       "      <td>John Paul Quintero</td>\n",
       "      <td>2015-03-01</td>\n",
       "      <td>shot and Tasered</td>\n",
       "      <td>unarmed</td>\n",
       "      <td>23.0</td>\n",
       "      <td>M</td>\n",
       "      <td>H</td>\n",
       "      <td>Wichita</td>\n",
       "      <td>KS</td>\n",
       "      <td>False</td>\n",
       "      <td>other</td>\n",
       "      <td>Not fleeing</td>\n",
       "      <td>False</td>\n",
       "    </tr>\n",
       "    <tr>\n",
       "      <th>3</th>\n",
       "      <td>8</td>\n",
       "      <td>Matthew Hoffman</td>\n",
       "      <td>2015-04-01</td>\n",
       "      <td>shot</td>\n",
       "      <td>toy weapon</td>\n",
       "      <td>32.0</td>\n",
       "      <td>M</td>\n",
       "      <td>W</td>\n",
       "      <td>San Francisco</td>\n",
       "      <td>CA</td>\n",
       "      <td>True</td>\n",
       "      <td>attack</td>\n",
       "      <td>Not fleeing</td>\n",
       "      <td>False</td>\n",
       "    </tr>\n",
       "    <tr>\n",
       "      <th>4</th>\n",
       "      <td>9</td>\n",
       "      <td>Michael Rodriguez</td>\n",
       "      <td>2015-04-01</td>\n",
       "      <td>shot</td>\n",
       "      <td>nail gun</td>\n",
       "      <td>39.0</td>\n",
       "      <td>M</td>\n",
       "      <td>H</td>\n",
       "      <td>Evans</td>\n",
       "      <td>CO</td>\n",
       "      <td>False</td>\n",
       "      <td>attack</td>\n",
       "      <td>Not fleeing</td>\n",
       "      <td>False</td>\n",
       "    </tr>\n",
       "    <tr>\n",
       "      <th>...</th>\n",
       "      <td>...</td>\n",
       "      <td>...</td>\n",
       "      <td>...</td>\n",
       "      <td>...</td>\n",
       "      <td>...</td>\n",
       "      <td>...</td>\n",
       "      <td>...</td>\n",
       "      <td>...</td>\n",
       "      <td>...</td>\n",
       "      <td>...</td>\n",
       "      <td>...</td>\n",
       "      <td>...</td>\n",
       "      <td>...</td>\n",
       "      <td>...</td>\n",
       "    </tr>\n",
       "    <tr>\n",
       "      <th>2530</th>\n",
       "      <td>2822</td>\n",
       "      <td>Rodney E. Jacobs</td>\n",
       "      <td>2017-07-28</td>\n",
       "      <td>shot</td>\n",
       "      <td>gun</td>\n",
       "      <td>31.0</td>\n",
       "      <td>M</td>\n",
       "      <td>NaN</td>\n",
       "      <td>Kansas City</td>\n",
       "      <td>MO</td>\n",
       "      <td>False</td>\n",
       "      <td>attack</td>\n",
       "      <td>Not fleeing</td>\n",
       "      <td>False</td>\n",
       "    </tr>\n",
       "    <tr>\n",
       "      <th>2531</th>\n",
       "      <td>2813</td>\n",
       "      <td>TK TK</td>\n",
       "      <td>2017-07-28</td>\n",
       "      <td>shot</td>\n",
       "      <td>vehicle</td>\n",
       "      <td>NaN</td>\n",
       "      <td>M</td>\n",
       "      <td>NaN</td>\n",
       "      <td>Albuquerque</td>\n",
       "      <td>NM</td>\n",
       "      <td>False</td>\n",
       "      <td>attack</td>\n",
       "      <td>Car</td>\n",
       "      <td>False</td>\n",
       "    </tr>\n",
       "    <tr>\n",
       "      <th>2532</th>\n",
       "      <td>2818</td>\n",
       "      <td>Dennis W. Robinson</td>\n",
       "      <td>2017-07-29</td>\n",
       "      <td>shot</td>\n",
       "      <td>gun</td>\n",
       "      <td>48.0</td>\n",
       "      <td>M</td>\n",
       "      <td>NaN</td>\n",
       "      <td>Melba</td>\n",
       "      <td>ID</td>\n",
       "      <td>False</td>\n",
       "      <td>attack</td>\n",
       "      <td>Car</td>\n",
       "      <td>False</td>\n",
       "    </tr>\n",
       "    <tr>\n",
       "      <th>2533</th>\n",
       "      <td>2817</td>\n",
       "      <td>Isaiah Tucker</td>\n",
       "      <td>2017-07-31</td>\n",
       "      <td>shot</td>\n",
       "      <td>vehicle</td>\n",
       "      <td>28.0</td>\n",
       "      <td>M</td>\n",
       "      <td>B</td>\n",
       "      <td>Oshkosh</td>\n",
       "      <td>WI</td>\n",
       "      <td>False</td>\n",
       "      <td>attack</td>\n",
       "      <td>Car</td>\n",
       "      <td>True</td>\n",
       "    </tr>\n",
       "    <tr>\n",
       "      <th>2534</th>\n",
       "      <td>2815</td>\n",
       "      <td>Dwayne Jeune</td>\n",
       "      <td>2017-07-31</td>\n",
       "      <td>shot</td>\n",
       "      <td>knife</td>\n",
       "      <td>32.0</td>\n",
       "      <td>M</td>\n",
       "      <td>B</td>\n",
       "      <td>Brooklyn</td>\n",
       "      <td>NY</td>\n",
       "      <td>True</td>\n",
       "      <td>attack</td>\n",
       "      <td>Not fleeing</td>\n",
       "      <td>False</td>\n",
       "    </tr>\n",
       "  </tbody>\n",
       "</table>\n",
       "<p>2535 rows × 14 columns</p>\n",
       "</div>"
      ],
      "text/plain": [
       "        id                name       date   manner_of_death       armed   age  \\\n",
       "0        3          Tim Elliot 2015-02-01              shot         gun  53.0   \n",
       "1        4    Lewis Lee Lembke 2015-02-01              shot         gun  47.0   \n",
       "2        5  John Paul Quintero 2015-03-01  shot and Tasered     unarmed  23.0   \n",
       "3        8     Matthew Hoffman 2015-04-01              shot  toy weapon  32.0   \n",
       "4        9   Michael Rodriguez 2015-04-01              shot    nail gun  39.0   \n",
       "...    ...                 ...        ...               ...         ...   ...   \n",
       "2530  2822    Rodney E. Jacobs 2017-07-28              shot         gun  31.0   \n",
       "2531  2813               TK TK 2017-07-28              shot     vehicle   NaN   \n",
       "2532  2818  Dennis W. Robinson 2017-07-29              shot         gun  48.0   \n",
       "2533  2817       Isaiah Tucker 2017-07-31              shot     vehicle  28.0   \n",
       "2534  2815        Dwayne Jeune 2017-07-31              shot       knife  32.0   \n",
       "\n",
       "     gender race           city state  signs_of_mental_illness threat_level  \\\n",
       "0         M    A        Shelton    WA                     True       attack   \n",
       "1         M    W          Aloha    OR                    False       attack   \n",
       "2         M    H        Wichita    KS                    False        other   \n",
       "3         M    W  San Francisco    CA                     True       attack   \n",
       "4         M    H          Evans    CO                    False       attack   \n",
       "...     ...  ...            ...   ...                      ...          ...   \n",
       "2530      M  NaN    Kansas City    MO                    False       attack   \n",
       "2531      M  NaN    Albuquerque    NM                    False       attack   \n",
       "2532      M  NaN          Melba    ID                    False       attack   \n",
       "2533      M    B        Oshkosh    WI                    False       attack   \n",
       "2534      M    B       Brooklyn    NY                     True       attack   \n",
       "\n",
       "             flee  body_camera  \n",
       "0     Not fleeing        False  \n",
       "1     Not fleeing        False  \n",
       "2     Not fleeing        False  \n",
       "3     Not fleeing        False  \n",
       "4     Not fleeing        False  \n",
       "...           ...          ...  \n",
       "2530  Not fleeing        False  \n",
       "2531          Car        False  \n",
       "2532          Car        False  \n",
       "2533          Car         True  \n",
       "2534  Not fleeing        False  \n",
       "\n",
       "[2535 rows x 14 columns]"
      ]
     },
     "execution_count": 339,
     "metadata": {},
     "output_type": "execute_result"
    }
   ],
   "source": [
    "AsesPolicia=pd.DataFrame(pd.read_csv('PoliciaAsesinatos.csv'))\n",
    "AsesPolicia['date'] = AsesPolicia['date'].astype('datetime64[ns]')\n",
    "AsesPolicia"
   ]
  },
  {
   "cell_type": "markdown",
   "id": "surgical-excitement",
   "metadata": {},
   "source": [
    "### Dar formato a la columna date y ver el dia menor, mayor y cantidad de dias"
   ]
  },
  {
   "cell_type": "code",
   "execution_count": 340,
   "id": "successful-format",
   "metadata": {},
   "outputs": [
    {
     "name": "stdout",
     "output_type": "stream",
     "text": [
      "2015-01-03 00:00:00\n",
      "2017-12-07 00:00:00\n",
      "1069 days 00:00:00\n"
     ]
    }
   ],
   "source": [
    "    Fecha_min = min(AsesPolicia['date'])\n",
    "    print(min(AsesPolicia['date']))\n",
    "    Fecha_max = max(AsesPolicia['date'])\n",
    "    print(max(AsesPolicia['date']))\n",
    "print(str(Fecha_max - Fecha_min))"
   ]
  },
  {
   "cell_type": "markdown",
   "id": "paperback-fraud",
   "metadata": {},
   "source": [
    "### Ver la proporcion de datos faltantes por columnas"
   ]
  },
  {
   "cell_type": "code",
   "execution_count": 341,
   "id": "empty-lesbian",
   "metadata": {},
   "outputs": [
    {
     "data": {
      "image/png": "[encoded data removed]",
      "text/plain": [
       "<Figure size 720x360 with 1 Axes>"
      ]
     },
     "metadata": {
      "needs_background": "light"
     },
     "output_type": "display_data"
    }
   ],
   "source": [
    "def graficar_cantidad_nulos(dataframe):\n",
    "  data_auxiliar = dataframe.copy()\n",
    "  tasa_de_vacio = round(data_auxiliar.isnull().mean()*100,3)\n",
    "  plt.figure(figsize=(10,5))\n",
    "  tasa_de_vacio.plot(kind = 'bar')\n",
    "  plt.title('Porcentaje de incompletitud')\n",
    "  plt.ylabel('Porcentaje [%]')\n",
    "  plt.xticks(rotation=45)\n",
    "  plt.show()\n",
    "\n",
    "\n",
    "graficar_cantidad_nulos(AsesPolicia)    "
   ]
  },
  {
   "cell_type": "markdown",
   "id": "early-arabic",
   "metadata": {},
   "source": [
    "- ### a. Análisis descriptivo de las variables manner_of_death y armed utilizando características sociodemográficas (age, gender, race, etc)"
   ]
  },
  {
   "cell_type": "markdown",
   "id": "realistic-asian",
   "metadata": {},
   "source": [
    "## Graficas descriptivas de la variable modo de muerte"
   ]
  },
  {
   "cell_type": "code",
   "execution_count": 342,
   "id": "eligible-thesaurus",
   "metadata": {},
   "outputs": [
    {
     "data": {
      "image/png": "[encoded data removed]",
      "text/plain": [
       "<Figure size 1440x720 with 1 Axes>"
      ]
     },
     "metadata": {
      "needs_background": "light"
     },
     "output_type": "display_data"
    }
   ],
   "source": [
    "plt.figure(figsize=(20,10))\n",
    "sns.histplot(x='age',data=AsesPolicia, hue='manner_of_death', multiple=\"dodge\", stat=\"density\", kde=True)\n",
    "plt.xlabel(\"Edad de la víctima\")\n",
    "plt.ylabel(\"Conteo de muertes\")\n",
    "plt.title('Histograma distribucion de murtes por edad y modo de muerte', weight='bold', size=24, y=1)\n",
    "plt.show()"
   ]
  },
  {
   "cell_type": "code",
   "execution_count": 343,
   "id": "enabling-physics",
   "metadata": {},
   "outputs": [
    {
     "data": {
      "image/png": "[encoded data removed]",
      "text/plain": [
       "<Figure size 720x360 with 1 Axes>"
      ]
     },
     "metadata": {
      "needs_background": "light"
     },
     "output_type": "display_data"
    }
   ],
   "source": [
    "plt.figure(figsize=(10,5))\n",
    "sns.countplot(x='gender',data=AsesPolicia, hue='manner_of_death')\n",
    "plt.xlabel(\"Género de la víctima\")\n",
    "plt.ylabel(\"Conteo de muertes\")\n",
    "plt.title('Conteo forma de muerte por sexo de la víctima', weight='bold', size=24, y=1)\n",
    "plt.show()"
   ]
  },
  {
   "cell_type": "code",
   "execution_count": 344,
   "id": "vertical-operator",
   "metadata": {},
   "outputs": [],
   "source": [
    "AsesPolicia['race'].replace({\"W\":\"White\", \"B\":\"Black\", \"H\":\"Hispanic\", \"A\":\"Asian\", \"N\":\"Otro\", \"O\":\"Otro\"}, inplace=True)"
   ]
  },
  {
   "cell_type": "code",
   "execution_count": 345,
   "id": "academic-vatican",
   "metadata": {},
   "outputs": [
    {
     "name": "stderr",
     "output_type": "stream",
     "text": [
      "/usr/local/lib/python3.8/dist-packages/plotly/graph_objs/_deprecations.py:405: DeprecationWarning:\n",
      "\n",
      "plotly.graph_objs.Margin is deprecated.\n",
      "Please replace it with one of the following more specific types\n",
      "  - plotly.graph_objs.layout.Margin\n",
      "\n",
      "\n"
     ]
    },
    {
     "data": {
      "application/vnd.plotly.v1+json": {
       "config": {
        "linkText": "Export to plot.ly",
        "plotlyServerURL": "https://plot.ly",
        "showLink": false
       },
       "data": [
        {
         "labels": [
          "White",
          "Black",
          "Hispanic",
          null,
          "Otro",
          "Asian"
         ],
         "type": "pie",
         "values": [
          1201,
          618,
          423,
          195,
          59,
          39
         ]
        }
       ],
       "layout": {
        "height": 600,
        "margin": {
         "b": 100,
         "l": 0,
         "pad": 4,
         "r": 200,
         "t": 100
        },
        "template": {
         "data": {
          "bar": [
           {
            "error_x": {
             "color": "#2a3f5f"
            },
            "error_y": {
             "color": "#2a3f5f"
            },
            "marker": {
             "line": {
              "color": "#E5ECF6",
              "width": 0.5
             }
            },
            "type": "bar"
           }
          ],
          "barpolar": [
           {
            "marker": {
             "line": {
              "color": "#E5ECF6",
              "width": 0.5
             }
            },
            "type": "barpolar"
           }
          ],
          "carpet": [
           {
            "aaxis": {
             "endlinecolor": "#2a3f5f",
             "gridcolor": "white",
             "linecolor": "white",
             "minorgridcolor": "white",
             "startlinecolor": "#2a3f5f"
            },
            "baxis": {
             "endlinecolor": "#2a3f5f",
             "gridcolor": "white",
             "linecolor": "white",
             "minorgridcolor": "white",
             "startlinecolor": "#2a3f5f"
            },
            "type": "carpet"
           }
          ],
          "choropleth": [
           {
            "colorbar": {
             "outlinewidth": 0,
             "ticks": ""
            },
            "type": "choropleth"
           }
          ],
          "contour": [
           {
            "colorbar": {
             "outlinewidth": 0,
             "ticks": ""
            },
            "colorscale": [
             [
              0,
              "#0d0887"
             ],
             [
              0.1111111111111111,
              "#46039f"
             ],
             [
              0.2222222222222222,
              "#7201a8"
             ],
             [
              0.3333333333333333,
              "#9c179e"
             ],
             [
              0.4444444444444444,
              "#bd3786"
             ],
             [
              0.5555555555555556,
              "#d8576b"
             ],
             [
              0.6666666666666666,
              "#ed7953"
             ],
             [
              0.7777777777777778,
              "#fb9f3a"
             ],
             [
              0.8888888888888888,
              "#fdca26"
             ],
             [
              1,
              "#f0f921"
             ]
            ],
            "type": "contour"
           }
          ],
          "contourcarpet": [
           {
            "colorbar": {
             "outlinewidth": 0,
             "ticks": ""
            },
            "type": "contourcarpet"
           }
          ],
          "heatmap": [
           {
            "colorbar": {
             "outlinewidth": 0,
             "ticks": ""
            },
            "colorscale": [
             [
              0,
              "#0d0887"
             ],
             [
              0.1111111111111111,
              "#46039f"
             ],
             [
              0.2222222222222222,
              "#7201a8"
             ],
             [
              0.3333333333333333,
              "#9c179e"
             ],
             [
              0.4444444444444444,
              "#bd3786"
             ],
             [
              0.5555555555555556,
              "#d8576b"
             ],
             [
              0.6666666666666666,
              "#ed7953"
             ],
             [
              0.7777777777777778,
              "#fb9f3a"
             ],
             [
              0.8888888888888888,
              "#fdca26"
             ],
             [
              1,
              "#f0f921"
             ]
            ],
            "type": "heatmap"
           }
          ],
          "heatmapgl": [
           {
            "colorbar": {
             "outlinewidth": 0,
             "ticks": ""
            },
            "colorscale": [
             [
              0,
              "#0d0887"
             ],
             [
              0.1111111111111111,
              "#46039f"
             ],
             [
              0.2222222222222222,
              "#7201a8"
             ],
             [
              0.3333333333333333,
              "#9c179e"
             ],
             [
              0.4444444444444444,
              "#bd3786"
             ],
             [
              0.5555555555555556,
              "#d8576b"
             ],
             [
              0.6666666666666666,
              "#ed7953"
             ],
             [
              0.7777777777777778,
              "#fb9f3a"
             ],
             [
              0.8888888888888888,
              "#fdca26"
             ],
             [
              1,
              "#f0f921"
             ]
            ],
            "type": "heatmapgl"
           }
          ],
          "histogram": [
           {
            "marker": {
             "colorbar": {
              "outlinewidth": 0,
              "ticks": ""
             }
            },
            "type": "histogram"
           }
          ],
          "histogram2d": [
           {
            "colorbar": {
             "outlinewidth": 0,
             "ticks": ""
            },
            "colorscale": [
             [
              0,
              "#0d0887"
             ],
             [
              0.1111111111111111,
              "#46039f"
             ],
             [
              0.2222222222222222,
              "#7201a8"
             ],
             [
              0.3333333333333333,
              "#9c179e"
             ],
             [
              0.4444444444444444,
              "#bd3786"
             ],
             [
              0.5555555555555556,
              "#d8576b"
             ],
             [
              0.6666666666666666,
              "#ed7953"
             ],
             [
              0.7777777777777778,
              "#fb9f3a"
             ],
             [
              0.8888888888888888,
              "#fdca26"
             ],
             [
              1,
              "#f0f921"
             ]
            ],
            "type": "histogram2d"
           }
          ],
          "histogram2dcontour": [
           {
            "colorbar": {
             "outlinewidth": 0,
             "ticks": ""
            },
            "colorscale": [
             [
              0,
              "#0d0887"
             ],
             [
              0.1111111111111111,
              "#46039f"
             ],
             [
              0.2222222222222222,
              "#7201a8"
             ],
             [
              0.3333333333333333,
              "#9c179e"
             ],
             [
              0.4444444444444444,
              "#bd3786"
             ],
             [
              0.5555555555555556,
              "#d8576b"
             ],
             [
              0.6666666666666666,
              "#ed7953"
             ],
             [
              0.7777777777777778,
              "#fb9f3a"
             ],
             [
              0.8888888888888888,
              "#fdca26"
             ],
             [
              1,
              "#f0f921"
             ]
            ],
            "type": "histogram2dcontour"
           }
          ],
          "mesh3d": [
           {
            "colorbar": {
             "outlinewidth": 0,
             "ticks": ""
            },
            "type": "mesh3d"
           }
          ],
          "parcoords": [
           {
            "line": {
             "colorbar": {
              "outlinewidth": 0,
              "ticks": ""
             }
            },
            "type": "parcoords"
           }
          ],
          "pie": [
           {
            "automargin": true,
            "type": "pie"
           }
          ],
          "scatter": [
           {
            "marker": {
             "colorbar": {
              "outlinewidth": 0,
              "ticks": ""
             }
            },
            "type": "scatter"
           }
          ],
          "scatter3d": [
           {
            "line": {
             "colorbar": {
              "outlinewidth": 0,
              "ticks": ""
             }
            },
            "marker": {
             "colorbar": {
              "outlinewidth": 0,
              "ticks": ""
             }
            },
            "type": "scatter3d"
           }
          ],
          "scattercarpet": [
           {
            "marker": {
             "colorbar": {
              "outlinewidth": 0,
              "ticks": ""
             }
            },
            "type": "scattercarpet"
           }
          ],
          "scattergeo": [
           {
            "marker": {
             "colorbar": {
              "outlinewidth": 0,
              "ticks": ""
             }
            },
            "type": "scattergeo"
           }
          ],
          "scattergl": [
           {
            "marker": {
             "colorbar": {
              "outlinewidth": 0,
              "ticks": ""
             }
            },
            "type": "scattergl"
           }
          ],
          "scattermapbox": [
           {
            "marker": {
             "colorbar": {
              "outlinewidth": 0,
              "ticks": ""
             }
            },
            "type": "scattermapbox"
           }
          ],
          "scatterpolar": [
           {
            "marker": {
             "colorbar": {
              "outlinewidth": 0,
              "ticks": ""
             }
            },
            "type": "scatterpolar"
           }
          ],
          "scatterpolargl": [
           {
            "marker": {
             "colorbar": {
              "outlinewidth": 0,
              "ticks": ""
             }
            },
            "type": "scatterpolargl"
           }
          ],
          "scatterternary": [
           {
            "marker": {
             "colorbar": {
              "outlinewidth": 0,
              "ticks": ""
             }
            },
            "type": "scatterternary"
           }
          ],
          "surface": [
           {
            "colorbar": {
             "outlinewidth": 0,
             "ticks": ""
            },
            "colorscale": [
             [
              0,
              "#0d0887"
             ],
             [
              0.1111111111111111,
              "#46039f"
             ],
             [
              0.2222222222222222,
              "#7201a8"
             ],
             [
              0.3333333333333333,
              "#9c179e"
             ],
             [
              0.4444444444444444,
              "#bd3786"
             ],
             [
              0.5555555555555556,
              "#d8576b"
             ],
             [
              0.6666666666666666,
              "#ed7953"
             ],
             [
              0.7777777777777778,
              "#fb9f3a"
             ],
             [
              0.8888888888888888,
              "#fdca26"
             ],
             [
              1,
              "#f0f921"
             ]
            ],
            "type": "surface"
           }
          ],
          "table": [
           {
            "cells": {
             "fill": {
              "color": "#EBF0F8"
             },
             "line": {
              "color": "white"
             }
            },
            "header": {
             "fill": {
              "color": "#C8D4E3"
             },
             "line": {
              "color": "white"
             }
            },
            "type": "table"
           }
          ]
         },
         "layout": {
          "annotationdefaults": {
           "arrowcolor": "#2a3f5f",
           "arrowhead": 0,
           "arrowwidth": 1
          },
          "autotypenumbers": "strict",
          "coloraxis": {
           "colorbar": {
            "outlinewidth": 0,
            "ticks": ""
           }
          },
          "colorscale": {
           "diverging": [
            [
             0,
             "#8e0152"
            ],
            [
             0.1,
             "#c51b7d"
            ],
            [
             0.2,
             "#de77ae"
            ],
            [
             0.3,
             "#f1b6da"
            ],
            [
             0.4,
             "#fde0ef"
            ],
            [
             0.5,
             "#f7f7f7"
            ],
            [
             0.6,
             "#e6f5d0"
            ],
            [
             0.7,
             "#b8e186"
            ],
            [
             0.8,
             "#7fbc41"
            ],
            [
             0.9,
             "#4d9221"
            ],
            [
             1,
             "#276419"
            ]
           ],
           "sequential": [
            [
             0,
             "#0d0887"
            ],
            [
             0.1111111111111111,
             "#46039f"
            ],
            [
             0.2222222222222222,
             "#7201a8"
            ],
            [
             0.3333333333333333,
             "#9c179e"
            ],
            [
             0.4444444444444444,
             "#bd3786"
            ],
            [
             0.5555555555555556,
             "#d8576b"
            ],
            [
             0.6666666666666666,
             "#ed7953"
            ],
            [
             0.7777777777777778,
             "#fb9f3a"
            ],
            [
             0.8888888888888888,
             "#fdca26"
            ],
            [
             1,
             "#f0f921"
            ]
           ],
           "sequentialminus": [
            [
             0,
             "#0d0887"
            ],
            [
             0.1111111111111111,
             "#46039f"
            ],
            [
             0.2222222222222222,
             "#7201a8"
            ],
            [
             0.3333333333333333,
             "#9c179e"
            ],
            [
             0.4444444444444444,
             "#bd3786"
            ],
            [
             0.5555555555555556,
             "#d8576b"
            ],
            [
             0.6666666666666666,
             "#ed7953"
            ],
            [
             0.7777777777777778,
             "#fb9f3a"
            ],
            [
             0.8888888888888888,
             "#fdca26"
            ],
            [
             1,
             "#f0f921"
            ]
           ]
          },
          "colorway": [
           "#636efa",
           "#EF553B",
           "#00cc96",
           "#ab63fa",
           "#FFA15A",
           "#19d3f3",
           "#FF6692",
           "#B6E880",
           "#FF97FF",
           "#FECB52"
          ],
          "font": {
           "color": "#2a3f5f"
          },
          "geo": {
           "bgcolor": "white",
           "lakecolor": "white",
           "landcolor": "#E5ECF6",
           "showlakes": true,
           "showland": true,
           "subunitcolor": "white"
          },
          "hoverlabel": {
           "align": "left"
          },
          "hovermode": "closest",
          "mapbox": {
           "style": "light"
          },
          "paper_bgcolor": "white",
          "plot_bgcolor": "#E5ECF6",
          "polar": {
           "angularaxis": {
            "gridcolor": "white",
            "linecolor": "white",
            "ticks": ""
           },
           "bgcolor": "#E5ECF6",
           "radialaxis": {
            "gridcolor": "white",
            "linecolor": "white",
            "ticks": ""
           }
          },
          "scene": {
           "xaxis": {
            "backgroundcolor": "#E5ECF6",
            "gridcolor": "white",
            "gridwidth": 2,
            "linecolor": "white",
            "showbackground": true,
            "ticks": "",
            "zerolinecolor": "white"
           },
           "yaxis": {
            "backgroundcolor": "#E5ECF6",
            "gridcolor": "white",
            "gridwidth": 2,
            "linecolor": "white",
            "showbackground": true,
            "ticks": "",
            "zerolinecolor": "white"
           },
           "zaxis": {
            "backgroundcolor": "#E5ECF6",
            "gridcolor": "white",
            "gridwidth": 2,
            "linecolor": "white",
            "showbackground": true,
            "ticks": "",
            "zerolinecolor": "white"
           }
          },
          "shapedefaults": {
           "line": {
            "color": "#2a3f5f"
           }
          },
          "ternary": {
           "aaxis": {
            "gridcolor": "white",
            "linecolor": "white",
            "ticks": ""
           },
           "baxis": {
            "gridcolor": "white",
            "linecolor": "white",
            "ticks": ""
           },
           "bgcolor": "#E5ECF6",
           "caxis": {
            "gridcolor": "white",
            "linecolor": "white",
            "ticks": ""
           }
          },
          "title": {
           "x": 0.05
          },
          "xaxis": {
           "automargin": true,
           "gridcolor": "white",
           "linecolor": "white",
           "ticks": "",
           "title": {
            "standoff": 15
           },
           "zerolinecolor": "white",
           "zerolinewidth": 2
          },
          "yaxis": {
           "automargin": true,
           "gridcolor": "white",
           "linecolor": "white",
           "ticks": "",
           "title": {
            "standoff": 15
           },
           "zerolinecolor": "white",
           "zerolinewidth": 2
          }
         }
        },
        "title": {
         "text": "Muertes totales por Raza de la víctima"
        }
       }
      },
      "text/html": [
       "<div>                            <div id=\"055a697d-d023-4aae-9928-5357db8a6768\" class=\"plotly-graph-div\" style=\"height:600px; width:100%;\"></div>            <script type=\"text/javascript\">                require([\"plotly\"], function(Plotly) {                    window.PLOTLYENV=window.PLOTLYENV || {};                                    if (document.getElementById(\"055a697d-d023-4aae-9928-5357db8a6768\")) {                    Plotly.newPlot(                        \"055a697d-d023-4aae-9928-5357db8a6768\",                        [{\"labels\": [\"White\", \"Black\", \"Hispanic\", null, \"Otro\", \"Asian\"], \"type\": \"pie\", \"values\": [1201, 618, 423, 195, 59, 39]}],                        {\"height\": 600, \"margin\": {\"b\": 100, \"l\": 0, \"pad\": 4, \"r\": 200, \"t\": 100}, \"template\": {\"data\": {\"bar\": [{\"error_x\": {\"color\": \"#2a3f5f\"}, \"error_y\": {\"color\": \"#2a3f5f\"}, \"marker\": {\"line\": {\"color\": \"#E5ECF6\", \"width\": 0.5}}, \"type\": \"bar\"}], \"barpolar\": [{\"marker\": {\"line\": {\"color\": \"#E5ECF6\", \"width\": 0.5}}, \"type\": \"barpolar\"}], \"carpet\": [{\"aaxis\": {\"endlinecolor\": \"#2a3f5f\", \"gridcolor\": \"white\", \"linecolor\": \"white\", \"minorgridcolor\": \"white\", \"startlinecolor\": \"#2a3f5f\"}, \"baxis\": {\"endlinecolor\": \"#2a3f5f\", \"gridcolor\": \"white\", \"linecolor\": \"white\", \"minorgridcolor\": \"white\", \"startlinecolor\": \"#2a3f5f\"}, \"type\": \"carpet\"}], \"choropleth\": [{\"colorbar\": {\"outlinewidth\": 0, \"ticks\": \"\"}, \"type\": \"choropleth\"}], \"contour\": [{\"colorbar\": {\"outlinewidth\": 0, \"ticks\": \"\"}, \"colorscale\": [[0.0, \"#0d0887\"], [0.1111111111111111, \"#46039f\"], [0.2222222222222222, \"#7201a8\"], [0.3333333333333333, \"#9c179e\"], [0.4444444444444444, \"#bd3786\"], [0.5555555555555556, \"#d8576b\"], [0.6666666666666666, \"#ed7953\"], [0.7777777777777778, \"#fb9f3a\"], [0.8888888888888888, \"#fdca26\"], [1.0, \"#f0f921\"]], \"type\": \"contour\"}], \"contourcarpet\": [{\"colorbar\": {\"outlinewidth\": 0, \"ticks\": \"\"}, \"type\": \"contourcarpet\"}], \"heatmap\": [{\"colorbar\": {\"outlinewidth\": 0, \"ticks\": \"\"}, \"colorscale\": [[0.0, \"#0d0887\"], [0.1111111111111111, \"#46039f\"], [0.2222222222222222, \"#7201a8\"], [0.3333333333333333, \"#9c179e\"], [0.4444444444444444, \"#bd3786\"], [0.5555555555555556, \"#d8576b\"], [0.6666666666666666, \"#ed7953\"], [0.7777777777777778, \"#fb9f3a\"], [0.8888888888888888, \"#fdca26\"], [1.0, \"#f0f921\"]], \"type\": \"heatmap\"}], \"heatmapgl\": [{\"colorbar\": {\"outlinewidth\": 0, \"ticks\": \"\"}, \"colorscale\": [[0.0, \"#0d0887\"], [0.1111111111111111, \"#46039f\"], [0.2222222222222222, \"#7201a8\"], [0.3333333333333333, \"#9c179e\"], [0.4444444444444444, \"#bd3786\"], [0.5555555555555556, \"#d8576b\"], [0.6666666666666666, \"#ed7953\"], [0.7777777777777778, \"#fb9f3a\"], [0.8888888888888888, \"#fdca26\"], [1.0, \"#f0f921\"]], \"type\": \"heatmapgl\"}], \"histogram\": [{\"marker\": {\"colorbar\": {\"outlinewidth\": 0, \"ticks\": \"\"}}, \"type\": \"histogram\"}], \"histogram2d\": [{\"colorbar\": {\"outlinewidth\": 0, \"ticks\": \"\"}, \"colorscale\": [[0.0, \"#0d0887\"], [0.1111111111111111, \"#46039f\"], [0.2222222222222222, \"#7201a8\"], [0.3333333333333333, \"#9c179e\"], [0.4444444444444444, \"#bd3786\"], [0.5555555555555556, \"#d8576b\"], [0.6666666666666666, \"#ed7953\"], [0.7777777777777778, \"#fb9f3a\"], [0.8888888888888888, \"#fdca26\"], [1.0, \"#f0f921\"]], \"type\": \"histogram2d\"}], \"histogram2dcontour\": [{\"colorbar\": {\"outlinewidth\": 0, \"ticks\": \"\"}, \"colorscale\": [[0.0, \"#0d0887\"], [0.1111111111111111, \"#46039f\"], [0.2222222222222222, \"#7201a8\"], [0.3333333333333333, \"#9c179e\"], [0.4444444444444444, \"#bd3786\"], [0.5555555555555556, \"#d8576b\"], [0.6666666666666666, \"#ed7953\"], [0.7777777777777778, \"#fb9f3a\"], [0.8888888888888888, \"#fdca26\"], [1.0, \"#f0f921\"]], \"type\": \"histogram2dcontour\"}], \"mesh3d\": [{\"colorbar\": {\"outlinewidth\": 0, \"ticks\": \"\"}, \"type\": \"mesh3d\"}], \"parcoords\": [{\"line\": {\"colorbar\": {\"outlinewidth\": 0, \"ticks\": \"\"}}, \"type\": \"parcoords\"}], \"pie\": [{\"automargin\": true, \"type\": \"pie\"}], \"scatter\": [{\"marker\": {\"colorbar\": {\"outlinewidth\": 0, \"ticks\": \"\"}}, \"type\": \"scatter\"}], \"scatter3d\": [{\"line\": {\"colorbar\": {\"outlinewidth\": 0, \"ticks\": \"\"}}, \"marker\": {\"colorbar\": {\"outlinewidth\": 0, \"ticks\": \"\"}}, \"type\": \"scatter3d\"}], \"scattercarpet\": [{\"marker\": {\"colorbar\": {\"outlinewidth\": 0, \"ticks\": \"\"}}, \"type\": \"scattercarpet\"}], \"scattergeo\": [{\"marker\": {\"colorbar\": {\"outlinewidth\": 0, \"ticks\": \"\"}}, \"type\": \"scattergeo\"}], \"scattergl\": [{\"marker\": {\"colorbar\": {\"outlinewidth\": 0, \"ticks\": \"\"}}, \"type\": \"scattergl\"}], \"scattermapbox\": [{\"marker\": {\"colorbar\": {\"outlinewidth\": 0, \"ticks\": \"\"}}, \"type\": \"scattermapbox\"}], \"scatterpolar\": [{\"marker\": {\"colorbar\": {\"outlinewidth\": 0, \"ticks\": \"\"}}, \"type\": \"scatterpolar\"}], \"scatterpolargl\": [{\"marker\": {\"colorbar\": {\"outlinewidth\": 0, \"ticks\": \"\"}}, \"type\": \"scatterpolargl\"}], \"scatterternary\": [{\"marker\": {\"colorbar\": {\"outlinewidth\": 0, \"ticks\": \"\"}}, \"type\": \"scatterternary\"}], \"surface\": [{\"colorbar\": {\"outlinewidth\": 0, \"ticks\": \"\"}, \"colorscale\": [[0.0, \"#0d0887\"], [0.1111111111111111, \"#46039f\"], [0.2222222222222222, \"#7201a8\"], [0.3333333333333333, \"#9c179e\"], [0.4444444444444444, \"#bd3786\"], [0.5555555555555556, \"#d8576b\"], [0.6666666666666666, \"#ed7953\"], [0.7777777777777778, \"#fb9f3a\"], [0.8888888888888888, \"#fdca26\"], [1.0, \"#f0f921\"]], \"type\": \"surface\"}], \"table\": [{\"cells\": {\"fill\": {\"color\": \"#EBF0F8\"}, \"line\": {\"color\": \"white\"}}, \"header\": {\"fill\": {\"color\": \"#C8D4E3\"}, \"line\": {\"color\": \"white\"}}, \"type\": \"table\"}]}, \"layout\": {\"annotationdefaults\": {\"arrowcolor\": \"#2a3f5f\", \"arrowhead\": 0, \"arrowwidth\": 1}, \"autotypenumbers\": \"strict\", \"coloraxis\": {\"colorbar\": {\"outlinewidth\": 0, \"ticks\": \"\"}}, \"colorscale\": {\"diverging\": [[0, \"#8e0152\"], [0.1, \"#c51b7d\"], [0.2, \"#de77ae\"], [0.3, \"#f1b6da\"], [0.4, \"#fde0ef\"], [0.5, \"#f7f7f7\"], [0.6, \"#e6f5d0\"], [0.7, \"#b8e186\"], [0.8, \"#7fbc41\"], [0.9, \"#4d9221\"], [1, \"#276419\"]], \"sequential\": [[0.0, \"#0d0887\"], [0.1111111111111111, \"#46039f\"], [0.2222222222222222, \"#7201a8\"], [0.3333333333333333, \"#9c179e\"], [0.4444444444444444, \"#bd3786\"], [0.5555555555555556, \"#d8576b\"], [0.6666666666666666, \"#ed7953\"], [0.7777777777777778, \"#fb9f3a\"], [0.8888888888888888, \"#fdca26\"], [1.0, \"#f0f921\"]], \"sequentialminus\": [[0.0, \"#0d0887\"], [0.1111111111111111, \"#46039f\"], [0.2222222222222222, \"#7201a8\"], [0.3333333333333333, \"#9c179e\"], [0.4444444444444444, \"#bd3786\"], [0.5555555555555556, \"#d8576b\"], [0.6666666666666666, \"#ed7953\"], [0.7777777777777778, \"#fb9f3a\"], [0.8888888888888888, \"#fdca26\"], [1.0, \"#f0f921\"]]}, \"colorway\": [\"#636efa\", \"#EF553B\", \"#00cc96\", \"#ab63fa\", \"#FFA15A\", \"#19d3f3\", \"#FF6692\", \"#B6E880\", \"#FF97FF\", \"#FECB52\"], \"font\": {\"color\": \"#2a3f5f\"}, \"geo\": {\"bgcolor\": \"white\", \"lakecolor\": \"white\", \"landcolor\": \"#E5ECF6\", \"showlakes\": true, \"showland\": true, \"subunitcolor\": \"white\"}, \"hoverlabel\": {\"align\": \"left\"}, \"hovermode\": \"closest\", \"mapbox\": {\"style\": \"light\"}, \"paper_bgcolor\": \"white\", \"plot_bgcolor\": \"#E5ECF6\", \"polar\": {\"angularaxis\": {\"gridcolor\": \"white\", \"linecolor\": \"white\", \"ticks\": \"\"}, \"bgcolor\": \"#E5ECF6\", \"radialaxis\": {\"gridcolor\": \"white\", \"linecolor\": \"white\", \"ticks\": \"\"}}, \"scene\": {\"xaxis\": {\"backgroundcolor\": \"#E5ECF6\", \"gridcolor\": \"white\", \"gridwidth\": 2, \"linecolor\": \"white\", \"showbackground\": true, \"ticks\": \"\", \"zerolinecolor\": \"white\"}, \"yaxis\": {\"backgroundcolor\": \"#E5ECF6\", \"gridcolor\": \"white\", \"gridwidth\": 2, \"linecolor\": \"white\", \"showbackground\": true, \"ticks\": \"\", \"zerolinecolor\": \"white\"}, \"zaxis\": {\"backgroundcolor\": \"#E5ECF6\", \"gridcolor\": \"white\", \"gridwidth\": 2, \"linecolor\": \"white\", \"showbackground\": true, \"ticks\": \"\", \"zerolinecolor\": \"white\"}}, \"shapedefaults\": {\"line\": {\"color\": \"#2a3f5f\"}}, \"ternary\": {\"aaxis\": {\"gridcolor\": \"white\", \"linecolor\": \"white\", \"ticks\": \"\"}, \"baxis\": {\"gridcolor\": \"white\", \"linecolor\": \"white\", \"ticks\": \"\"}, \"bgcolor\": \"#E5ECF6\", \"caxis\": {\"gridcolor\": \"white\", \"linecolor\": \"white\", \"ticks\": \"\"}}, \"title\": {\"x\": 0.05}, \"xaxis\": {\"automargin\": true, \"gridcolor\": \"white\", \"linecolor\": \"white\", \"ticks\": \"\", \"title\": {\"standoff\": 15}, \"zerolinecolor\": \"white\", \"zerolinewidth\": 2}, \"yaxis\": {\"automargin\": true, \"gridcolor\": \"white\", \"linecolor\": \"white\", \"ticks\": \"\", \"title\": {\"standoff\": 15}, \"zerolinecolor\": \"white\", \"zerolinewidth\": 2}}}, \"title\": {\"text\": \"Muertes totales por Raza de la v\\u00edctima\"}},                        {\"responsive\": true}                    ).then(function(){\n",
       "                            \n",
       "var gd = document.getElementById('055a697d-d023-4aae-9928-5357db8a6768');\n",
       "var x = new MutationObserver(function (mutations, observer) {{\n",
       "        var display = window.getComputedStyle(gd).display;\n",
       "        if (!display || display === 'none') {{\n",
       "            console.log([gd, 'removed!']);\n",
       "            Plotly.purge(gd);\n",
       "            observer.disconnect();\n",
       "        }}\n",
       "}});\n",
       "\n",
       "// Listen for the removal of the full notebook cells\n",
       "var notebookContainer = gd.closest('#notebook-container');\n",
       "if (notebookContainer) {{\n",
       "    x.observe(notebookContainer, {childList: true});\n",
       "}}\n",
       "\n",
       "// Listen for the clearing of the current output cell\n",
       "var outputEl = gd.closest('.output');\n",
       "if (outputEl) {{\n",
       "    x.observe(outputEl, {childList: true});\n",
       "}}\n",
       "\n",
       "                        })                };                });            </script>        </div>"
      ]
     },
     "metadata": {},
     "output_type": "display_data"
    }
   ],
   "source": [
    "manner_of_death = pd.value_counts(AsesPolicia['race'], dropna=False)\n",
    "labels = manner_of_death.index.to_list()\n",
    "values = manner_of_death.to_list()\n",
    "title = 'Muertes totales por Raza de la víctima'\n",
    "trace = go.Pie(labels=labels, values=values)\n",
    "layout =  go.Layout(\n",
    "    title=title,\n",
    "          height=600,\n",
    "          margin=go.Margin(l=0, r=200, b=100, t=100, pad=4)   \n",
    "          ) \n",
    "fig = go.Figure(data=[trace], layout=layout)\n",
    "iplot(fig)"
   ]
  },
  {
   "cell_type": "code",
   "execution_count": 346,
   "id": "polar-career",
   "metadata": {},
   "outputs": [
    {
     "data": {
      "image/png": "[encoded data removed]",
      "text/plain": [
       "<Figure size 720x360 with 1 Axes>"
      ]
     },
     "metadata": {
      "needs_background": "light"
     },
     "output_type": "display_data"
    }
   ],
   "source": [
    "plt.figure(figsize=(10,5))\n",
    "sns.countplot(x='race',data=AsesPolicia, hue='manner_of_death')\n",
    "plt.xlabel(\"Raza de la víctima\")\n",
    "plt.ylabel(\"Conteo de muertes\")\n",
    "plt.title('Conteo forma de muerte por raza de la víctima', weight='bold', size=24, y=1)\n",
    "plt.show()"
   ]
  },
  {
   "cell_type": "code",
   "execution_count": 347,
   "id": "choice-pharmaceutical",
   "metadata": {},
   "outputs": [],
   "source": [
    "AsesPolicia['armed']=AsesPolicia[['armed']].astype(str)"
   ]
  },
  {
   "cell_type": "code",
   "execution_count": 348,
   "id": "occupational-juice",
   "metadata": {},
   "outputs": [
    {
     "data": {
      "text/plain": [
       "2750"
      ]
     },
     "execution_count": 348,
     "metadata": {},
     "output_type": "execute_result"
    }
   ],
   "source": [
    "listaArmas=\" \".join([arma for arma in AsesPolicia['armed']]).split()\n",
    "len(listaArmas)"
   ]
  },
  {
   "cell_type": "code",
   "execution_count": 349,
   "id": "alert-techno",
   "metadata": {},
   "outputs": [],
   "source": [
    "ocurrencias=collections.Counter(listaArmas)"
   ]
  },
  {
   "cell_type": "markdown",
   "id": "spectacular-resort",
   "metadata": {},
   "source": [
    "### frecuencia de asesinatos por tipo de arma"
   ]
  },
  {
   "cell_type": "code",
   "execution_count": 350,
   "id": "fundamental-israeli",
   "metadata": {},
   "outputs": [
    {
     "data": {
      "text/html": [
       "<div>\n",
       "<style scoped>\n",
       "    .dataframe tbody tr th:only-of-type {\n",
       "        vertical-align: middle;\n",
       "    }\n",
       "\n",
       "    .dataframe tbody tr th {\n",
       "        vertical-align: top;\n",
       "    }\n",
       "\n",
       "    .dataframe thead th {\n",
       "        text-align: right;\n",
       "    }\n",
       "</style>\n",
       "<table border=\"1\" class=\"dataframe\">\n",
       "  <thead>\n",
       "    <tr style=\"text-align: right;\">\n",
       "      <th></th>\n",
       "      <th>Arma</th>\n",
       "      <th>Frecuencia</th>\n",
       "    </tr>\n",
       "  </thead>\n",
       "  <tbody>\n",
       "    <tr>\n",
       "      <th>0</th>\n",
       "      <td>gun</td>\n",
       "      <td>1408</td>\n",
       "    </tr>\n",
       "    <tr>\n",
       "      <th>1</th>\n",
       "      <td>knife</td>\n",
       "      <td>379</td>\n",
       "    </tr>\n",
       "    <tr>\n",
       "      <th>2</th>\n",
       "      <td>vehicle</td>\n",
       "      <td>177</td>\n",
       "    </tr>\n",
       "    <tr>\n",
       "      <th>3</th>\n",
       "      <td>unarmed</td>\n",
       "      <td>171</td>\n",
       "    </tr>\n",
       "    <tr>\n",
       "      <th>4</th>\n",
       "      <td>weapon</td>\n",
       "      <td>122</td>\n",
       "    </tr>\n",
       "    <tr>\n",
       "      <th>5</th>\n",
       "      <td>undetermined</td>\n",
       "      <td>117</td>\n",
       "    </tr>\n",
       "    <tr>\n",
       "      <th>6</th>\n",
       "      <td>toy</td>\n",
       "      <td>104</td>\n",
       "    </tr>\n",
       "    <tr>\n",
       "      <th>7</th>\n",
       "      <td>machete</td>\n",
       "      <td>19</td>\n",
       "    </tr>\n",
       "    <tr>\n",
       "      <th>8</th>\n",
       "      <td>unknown</td>\n",
       "      <td>18</td>\n",
       "    </tr>\n",
       "    <tr>\n",
       "      <th>9</th>\n",
       "      <td>metal</td>\n",
       "      <td>16</td>\n",
       "    </tr>\n",
       "    <tr>\n",
       "      <th>10</th>\n",
       "      <td>and</td>\n",
       "      <td>14</td>\n",
       "    </tr>\n",
       "    <tr>\n",
       "      <th>11</th>\n",
       "      <td>bat</td>\n",
       "      <td>10</td>\n",
       "    </tr>\n",
       "    <tr>\n",
       "      <th>12</th>\n",
       "      <td>baseball</td>\n",
       "      <td>10</td>\n",
       "    </tr>\n",
       "    <tr>\n",
       "      <th>13</th>\n",
       "      <td>object</td>\n",
       "      <td>9</td>\n",
       "    </tr>\n",
       "    <tr>\n",
       "      <th>14</th>\n",
       "      <td>ax</td>\n",
       "      <td>9</td>\n",
       "    </tr>\n",
       "    <tr>\n",
       "      <th>15</th>\n",
       "      <td>pipe</td>\n",
       "      <td>9</td>\n",
       "    </tr>\n",
       "    <tr>\n",
       "      <th>16</th>\n",
       "      <td>Taser</td>\n",
       "      <td>9</td>\n",
       "    </tr>\n",
       "    <tr>\n",
       "      <th>17</th>\n",
       "      <td>nan</td>\n",
       "      <td>9</td>\n",
       "    </tr>\n",
       "    <tr>\n",
       "      <th>18</th>\n",
       "      <td>sword</td>\n",
       "      <td>8</td>\n",
       "    </tr>\n",
       "    <tr>\n",
       "      <th>19</th>\n",
       "      <td>hatchet</td>\n",
       "      <td>8</td>\n",
       "    </tr>\n",
       "    <tr>\n",
       "      <th>20</th>\n",
       "      <td>box</td>\n",
       "      <td>7</td>\n",
       "    </tr>\n",
       "    <tr>\n",
       "      <th>21</th>\n",
       "      <td>hammer</td>\n",
       "      <td>7</td>\n",
       "    </tr>\n",
       "    <tr>\n",
       "      <th>22</th>\n",
       "      <td>cutter</td>\n",
       "      <td>7</td>\n",
       "    </tr>\n",
       "  </tbody>\n",
       "</table>\n",
       "</div>"
      ],
      "text/plain": [
       "            Arma  Frecuencia\n",
       "0            gun        1408\n",
       "1          knife         379\n",
       "2        vehicle         177\n",
       "3        unarmed         171\n",
       "4         weapon         122\n",
       "5   undetermined         117\n",
       "6            toy         104\n",
       "7        machete          19\n",
       "8        unknown          18\n",
       "9          metal          16\n",
       "10           and          14\n",
       "11           bat          10\n",
       "12      baseball          10\n",
       "13        object           9\n",
       "14            ax           9\n",
       "15          pipe           9\n",
       "16         Taser           9\n",
       "17           nan           9\n",
       "18         sword           8\n",
       "19       hatchet           8\n",
       "20           box           7\n",
       "21        hammer           7\n",
       "22        cutter           7"
      ]
     },
     "execution_count": 350,
     "metadata": {},
     "output_type": "execute_result"
    }
   ],
   "source": [
    "Conteo_Armas = pd.DataFrame([[key, ocurrencias[key]] for key in ocurrencias.keys()], columns=['Arma', 'Frecuencia']) #Crear un datafreame con la frecuencia\n",
    "Conteo_Armas = Conteo_Armas.sort_values('Frecuencia', ascending=False) #Ordenar de forma descendente\n",
    "Conteo_Armas=Conteo_Armas[Conteo_Armas['Frecuencia']>=7]\n",
    "Conteo_Armas.reset_index(drop=True)"
   ]
  },
  {
   "cell_type": "code",
   "execution_count": 351,
   "id": "psychological-disorder",
   "metadata": {},
   "outputs": [
    {
     "data": {
      "image/png": "[encoded data removed]",
      "text/plain": [
       "<Figure size 1080x360 with 1 Axes>"
      ]
     },
     "metadata": {
      "needs_background": "light"
     },
     "output_type": "display_data"
    }
   ],
   "source": [
    "plt.figure(figsize=(15,5))\n",
    "sns.barplot(x=\"Arma\", y=\"Frecuencia\", data=Conteo_Armas)\n",
    "plt.xlabel(\"Tipo de arma\")\n",
    "plt.ylabel(\"Conteo de muertes\")\n",
    "plt.title('Conteo forma de muerte tipo de arma', weight='bold', size=24, y=1)\n",
    "plt.xticks(rotation=40)\n",
    "plt.show()"
   ]
  },
  {
   "cell_type": "markdown",
   "id": "relevant-highland",
   "metadata": {},
   "source": [
    "### Generar columna day para ver en que dia de la semana ocurren los homicidios"
   ]
  },
  {
   "cell_type": "code",
   "execution_count": 352,
   "id": "authentic-paintball",
   "metadata": {},
   "outputs": [],
   "source": [
    "AsesPolicia['day'] = AsesPolicia['date'].apply(lambda x: x.weekday())"
   ]
  },
  {
   "cell_type": "code",
   "execution_count": 353,
   "id": "universal-sweet",
   "metadata": {},
   "outputs": [
    {
     "data": {
      "text/html": [
       "<div>\n",
       "<style scoped>\n",
       "    .dataframe tbody tr th:only-of-type {\n",
       "        vertical-align: middle;\n",
       "    }\n",
       "\n",
       "    .dataframe tbody tr th {\n",
       "        vertical-align: top;\n",
       "    }\n",
       "\n",
       "    .dataframe thead th {\n",
       "        text-align: right;\n",
       "    }\n",
       "</style>\n",
       "<table border=\"1\" class=\"dataframe\">\n",
       "  <thead>\n",
       "    <tr style=\"text-align: right;\">\n",
       "      <th></th>\n",
       "      <th>id</th>\n",
       "      <th>name</th>\n",
       "      <th>date</th>\n",
       "      <th>manner_of_death</th>\n",
       "      <th>armed</th>\n",
       "      <th>age</th>\n",
       "      <th>gender</th>\n",
       "      <th>race</th>\n",
       "      <th>city</th>\n",
       "      <th>state</th>\n",
       "      <th>signs_of_mental_illness</th>\n",
       "      <th>threat_level</th>\n",
       "      <th>flee</th>\n",
       "      <th>body_camera</th>\n",
       "      <th>day</th>\n",
       "    </tr>\n",
       "  </thead>\n",
       "  <tbody>\n",
       "    <tr>\n",
       "      <th>0</th>\n",
       "      <td>3</td>\n",
       "      <td>Tim Elliot</td>\n",
       "      <td>2015-02-01</td>\n",
       "      <td>shot</td>\n",
       "      <td>gun</td>\n",
       "      <td>53.0</td>\n",
       "      <td>M</td>\n",
       "      <td>Asian</td>\n",
       "      <td>Shelton</td>\n",
       "      <td>WA</td>\n",
       "      <td>True</td>\n",
       "      <td>attack</td>\n",
       "      <td>Not fleeing</td>\n",
       "      <td>False</td>\n",
       "      <td>6</td>\n",
       "    </tr>\n",
       "    <tr>\n",
       "      <th>1</th>\n",
       "      <td>4</td>\n",
       "      <td>Lewis Lee Lembke</td>\n",
       "      <td>2015-02-01</td>\n",
       "      <td>shot</td>\n",
       "      <td>gun</td>\n",
       "      <td>47.0</td>\n",
       "      <td>M</td>\n",
       "      <td>White</td>\n",
       "      <td>Aloha</td>\n",
       "      <td>OR</td>\n",
       "      <td>False</td>\n",
       "      <td>attack</td>\n",
       "      <td>Not fleeing</td>\n",
       "      <td>False</td>\n",
       "      <td>6</td>\n",
       "    </tr>\n",
       "    <tr>\n",
       "      <th>2</th>\n",
       "      <td>5</td>\n",
       "      <td>John Paul Quintero</td>\n",
       "      <td>2015-03-01</td>\n",
       "      <td>shot and Tasered</td>\n",
       "      <td>unarmed</td>\n",
       "      <td>23.0</td>\n",
       "      <td>M</td>\n",
       "      <td>Hispanic</td>\n",
       "      <td>Wichita</td>\n",
       "      <td>KS</td>\n",
       "      <td>False</td>\n",
       "      <td>other</td>\n",
       "      <td>Not fleeing</td>\n",
       "      <td>False</td>\n",
       "      <td>6</td>\n",
       "    </tr>\n",
       "    <tr>\n",
       "      <th>3</th>\n",
       "      <td>8</td>\n",
       "      <td>Matthew Hoffman</td>\n",
       "      <td>2015-04-01</td>\n",
       "      <td>shot</td>\n",
       "      <td>toy weapon</td>\n",
       "      <td>32.0</td>\n",
       "      <td>M</td>\n",
       "      <td>White</td>\n",
       "      <td>San Francisco</td>\n",
       "      <td>CA</td>\n",
       "      <td>True</td>\n",
       "      <td>attack</td>\n",
       "      <td>Not fleeing</td>\n",
       "      <td>False</td>\n",
       "      <td>2</td>\n",
       "    </tr>\n",
       "    <tr>\n",
       "      <th>4</th>\n",
       "      <td>9</td>\n",
       "      <td>Michael Rodriguez</td>\n",
       "      <td>2015-04-01</td>\n",
       "      <td>shot</td>\n",
       "      <td>nail gun</td>\n",
       "      <td>39.0</td>\n",
       "      <td>M</td>\n",
       "      <td>Hispanic</td>\n",
       "      <td>Evans</td>\n",
       "      <td>CO</td>\n",
       "      <td>False</td>\n",
       "      <td>attack</td>\n",
       "      <td>Not fleeing</td>\n",
       "      <td>False</td>\n",
       "      <td>2</td>\n",
       "    </tr>\n",
       "    <tr>\n",
       "      <th>...</th>\n",
       "      <td>...</td>\n",
       "      <td>...</td>\n",
       "      <td>...</td>\n",
       "      <td>...</td>\n",
       "      <td>...</td>\n",
       "      <td>...</td>\n",
       "      <td>...</td>\n",
       "      <td>...</td>\n",
       "      <td>...</td>\n",
       "      <td>...</td>\n",
       "      <td>...</td>\n",
       "      <td>...</td>\n",
       "      <td>...</td>\n",
       "      <td>...</td>\n",
       "      <td>...</td>\n",
       "    </tr>\n",
       "    <tr>\n",
       "      <th>2530</th>\n",
       "      <td>2822</td>\n",
       "      <td>Rodney E. Jacobs</td>\n",
       "      <td>2017-07-28</td>\n",
       "      <td>shot</td>\n",
       "      <td>gun</td>\n",
       "      <td>31.0</td>\n",
       "      <td>M</td>\n",
       "      <td>NaN</td>\n",
       "      <td>Kansas City</td>\n",
       "      <td>MO</td>\n",
       "      <td>False</td>\n",
       "      <td>attack</td>\n",
       "      <td>Not fleeing</td>\n",
       "      <td>False</td>\n",
       "      <td>4</td>\n",
       "    </tr>\n",
       "    <tr>\n",
       "      <th>2531</th>\n",
       "      <td>2813</td>\n",
       "      <td>TK TK</td>\n",
       "      <td>2017-07-28</td>\n",
       "      <td>shot</td>\n",
       "      <td>vehicle</td>\n",
       "      <td>NaN</td>\n",
       "      <td>M</td>\n",
       "      <td>NaN</td>\n",
       "      <td>Albuquerque</td>\n",
       "      <td>NM</td>\n",
       "      <td>False</td>\n",
       "      <td>attack</td>\n",
       "      <td>Car</td>\n",
       "      <td>False</td>\n",
       "      <td>4</td>\n",
       "    </tr>\n",
       "    <tr>\n",
       "      <th>2532</th>\n",
       "      <td>2818</td>\n",
       "      <td>Dennis W. Robinson</td>\n",
       "      <td>2017-07-29</td>\n",
       "      <td>shot</td>\n",
       "      <td>gun</td>\n",
       "      <td>48.0</td>\n",
       "      <td>M</td>\n",
       "      <td>NaN</td>\n",
       "      <td>Melba</td>\n",
       "      <td>ID</td>\n",
       "      <td>False</td>\n",
       "      <td>attack</td>\n",
       "      <td>Car</td>\n",
       "      <td>False</td>\n",
       "      <td>5</td>\n",
       "    </tr>\n",
       "    <tr>\n",
       "      <th>2533</th>\n",
       "      <td>2817</td>\n",
       "      <td>Isaiah Tucker</td>\n",
       "      <td>2017-07-31</td>\n",
       "      <td>shot</td>\n",
       "      <td>vehicle</td>\n",
       "      <td>28.0</td>\n",
       "      <td>M</td>\n",
       "      <td>Black</td>\n",
       "      <td>Oshkosh</td>\n",
       "      <td>WI</td>\n",
       "      <td>False</td>\n",
       "      <td>attack</td>\n",
       "      <td>Car</td>\n",
       "      <td>True</td>\n",
       "      <td>0</td>\n",
       "    </tr>\n",
       "    <tr>\n",
       "      <th>2534</th>\n",
       "      <td>2815</td>\n",
       "      <td>Dwayne Jeune</td>\n",
       "      <td>2017-07-31</td>\n",
       "      <td>shot</td>\n",
       "      <td>knife</td>\n",
       "      <td>32.0</td>\n",
       "      <td>M</td>\n",
       "      <td>Black</td>\n",
       "      <td>Brooklyn</td>\n",
       "      <td>NY</td>\n",
       "      <td>True</td>\n",
       "      <td>attack</td>\n",
       "      <td>Not fleeing</td>\n",
       "      <td>False</td>\n",
       "      <td>0</td>\n",
       "    </tr>\n",
       "  </tbody>\n",
       "</table>\n",
       "<p>2535 rows × 15 columns</p>\n",
       "</div>"
      ],
      "text/plain": [
       "        id                name       date   manner_of_death       armed   age  \\\n",
       "0        3          Tim Elliot 2015-02-01              shot         gun  53.0   \n",
       "1        4    Lewis Lee Lembke 2015-02-01              shot         gun  47.0   \n",
       "2        5  John Paul Quintero 2015-03-01  shot and Tasered     unarmed  23.0   \n",
       "3        8     Matthew Hoffman 2015-04-01              shot  toy weapon  32.0   \n",
       "4        9   Michael Rodriguez 2015-04-01              shot    nail gun  39.0   \n",
       "...    ...                 ...        ...               ...         ...   ...   \n",
       "2530  2822    Rodney E. Jacobs 2017-07-28              shot         gun  31.0   \n",
       "2531  2813               TK TK 2017-07-28              shot     vehicle   NaN   \n",
       "2532  2818  Dennis W. Robinson 2017-07-29              shot         gun  48.0   \n",
       "2533  2817       Isaiah Tucker 2017-07-31              shot     vehicle  28.0   \n",
       "2534  2815        Dwayne Jeune 2017-07-31              shot       knife  32.0   \n",
       "\n",
       "     gender      race           city state  signs_of_mental_illness  \\\n",
       "0         M     Asian        Shelton    WA                     True   \n",
       "1         M     White          Aloha    OR                    False   \n",
       "2         M  Hispanic        Wichita    KS                    False   \n",
       "3         M     White  San Francisco    CA                     True   \n",
       "4         M  Hispanic          Evans    CO                    False   \n",
       "...     ...       ...            ...   ...                      ...   \n",
       "2530      M       NaN    Kansas City    MO                    False   \n",
       "2531      M       NaN    Albuquerque    NM                    False   \n",
       "2532      M       NaN          Melba    ID                    False   \n",
       "2533      M     Black        Oshkosh    WI                    False   \n",
       "2534      M     Black       Brooklyn    NY                     True   \n",
       "\n",
       "     threat_level         flee  body_camera  day  \n",
       "0          attack  Not fleeing        False    6  \n",
       "1          attack  Not fleeing        False    6  \n",
       "2           other  Not fleeing        False    6  \n",
       "3          attack  Not fleeing        False    2  \n",
       "4          attack  Not fleeing        False    2  \n",
       "...           ...          ...          ...  ...  \n",
       "2530       attack  Not fleeing        False    4  \n",
       "2531       attack          Car        False    4  \n",
       "2532       attack          Car        False    5  \n",
       "2533       attack          Car         True    0  \n",
       "2534       attack  Not fleeing        False    0  \n",
       "\n",
       "[2535 rows x 15 columns]"
      ]
     },
     "execution_count": 353,
     "metadata": {},
     "output_type": "execute_result"
    }
   ],
   "source": [
    "AsesPolicia"
   ]
  },
  {
   "cell_type": "code",
   "execution_count": 354,
   "id": "tight-lesson",
   "metadata": {},
   "outputs": [
    {
     "data": {
      "image/png": "[encoded data removed]",
      "text/plain": [
       "<Figure size 432x288 with 1 Axes>"
      ]
     },
     "metadata": {
      "needs_background": "light"
     },
     "output_type": "display_data"
    },
    {
     "name": "stdout",
     "output_type": "stream",
     "text": [
      "\n"
     ]
    },
    {
     "data": {
      "text/html": [
       "<div>\n",
       "<style scoped>\n",
       "    .dataframe tbody tr th:only-of-type {\n",
       "        vertical-align: middle;\n",
       "    }\n",
       "\n",
       "    .dataframe tbody tr th {\n",
       "        vertical-align: top;\n",
       "    }\n",
       "\n",
       "    .dataframe thead th {\n",
       "        text-align: right;\n",
       "    }\n",
       "</style>\n",
       "<table border=\"1\" class=\"dataframe\">\n",
       "  <thead>\n",
       "    <tr style=\"text-align: right;\">\n",
       "      <th></th>\n",
       "      <th>Counting</th>\n",
       "      <th>d_w</th>\n",
       "    </tr>\n",
       "  </thead>\n",
       "  <tbody>\n",
       "    <tr>\n",
       "      <th>0</th>\n",
       "      <td>337</td>\n",
       "      <td>Lunes</td>\n",
       "    </tr>\n",
       "    <tr>\n",
       "      <th>1</th>\n",
       "      <td>391</td>\n",
       "      <td>Martes</td>\n",
       "    </tr>\n",
       "    <tr>\n",
       "      <th>2</th>\n",
       "      <td>358</td>\n",
       "      <td>Miercoles</td>\n",
       "    </tr>\n",
       "    <tr>\n",
       "      <th>3</th>\n",
       "      <td>379</td>\n",
       "      <td>Jueves</td>\n",
       "    </tr>\n",
       "    <tr>\n",
       "      <th>4</th>\n",
       "      <td>334</td>\n",
       "      <td>Viernes</td>\n",
       "    </tr>\n",
       "    <tr>\n",
       "      <th>5</th>\n",
       "      <td>365</td>\n",
       "      <td>Sábado</td>\n",
       "    </tr>\n",
       "    <tr>\n",
       "      <th>6</th>\n",
       "      <td>371</td>\n",
       "      <td>Domingo</td>\n",
       "    </tr>\n",
       "  </tbody>\n",
       "</table>\n",
       "</div>"
      ],
      "text/plain": [
       "   Counting        d_w\n",
       "0       337      Lunes\n",
       "1       391     Martes\n",
       "2       358  Miercoles\n",
       "3       379     Jueves\n",
       "4       334    Viernes\n",
       "5       365     Sábado\n",
       "6       371    Domingo"
      ]
     },
     "execution_count": 354,
     "metadata": {},
     "output_type": "execute_result"
    }
   ],
   "source": [
    "muertes_dia = pd.DataFrame(AsesPolicia['day'].value_counts().sort_index())\n",
    "muertes_dia['d_w'] = ['Lunes', 'Martes', 'Miercoles', 'Jueves', 'Viernes', 'Sábado', 'Domingo']\n",
    "muertes_dia = muertes_dia.rename(columns={'day':'Counting'})\n",
    "plt.figure()\n",
    "sns.lineplot(data=muertes_dia, x=muertes_dia.d_w, y='Counting',linewidth = 1.5)\n",
    "plt.title('Volumen de muertes por día de la semana', weight='bold')\n",
    "plt.xlabel(\"Dia de la semana\")\n",
    "plt.ylabel(\"Conteo\")\n",
    "plt.xticks(rotation=30)\n",
    "plt.show()\n",
    "print()\n",
    "muertes_dia"
   ]
  },
  {
   "cell_type": "markdown",
   "id": "minute-kansas",
   "metadata": {},
   "source": [
    "- ### b. Evolución en el tiempo de las muertes por estado (Seleccione los 5 estados con más muertes para facilitar la visualización)"
   ]
  },
  {
   "cell_type": "markdown",
   "id": "wrapped-source",
   "metadata": {},
   "source": [
    "### Muertes por estado"
   ]
  },
  {
   "cell_type": "code",
   "execution_count": 355,
   "id": "biblical-norfolk",
   "metadata": {},
   "outputs": [
    {
     "data": {
      "text/plain": [
       "2535"
      ]
     },
     "execution_count": 355,
     "metadata": {},
     "output_type": "execute_result"
    }
   ],
   "source": [
    "DeathByState=\" \".join([arma for arma in AsesPolicia['state']]).split()\n",
    "len(DeathByState)"
   ]
  },
  {
   "cell_type": "markdown",
   "id": "resistant-lawyer",
   "metadata": {},
   "source": [
    "### Ver la frecuencia de muertes por estado para sacar los 5 mas significativoss"
   ]
  },
  {
   "cell_type": "code",
   "execution_count": 356,
   "id": "printable-tribe",
   "metadata": {},
   "outputs": [
    {
     "data": {
      "text/html": [
       "<div>\n",
       "<style scoped>\n",
       "    .dataframe tbody tr th:only-of-type {\n",
       "        vertical-align: middle;\n",
       "    }\n",
       "\n",
       "    .dataframe tbody tr th {\n",
       "        vertical-align: top;\n",
       "    }\n",
       "\n",
       "    .dataframe thead th {\n",
       "        text-align: right;\n",
       "    }\n",
       "</style>\n",
       "<table border=\"1\" class=\"dataframe\">\n",
       "  <thead>\n",
       "    <tr style=\"text-align: right;\">\n",
       "      <th></th>\n",
       "      <th>Estado</th>\n",
       "      <th>Frecuencia</th>\n",
       "    </tr>\n",
       "  </thead>\n",
       "  <tbody>\n",
       "    <tr>\n",
       "      <th>0</th>\n",
       "      <td>CA</td>\n",
       "      <td>424</td>\n",
       "    </tr>\n",
       "    <tr>\n",
       "      <th>1</th>\n",
       "      <td>TX</td>\n",
       "      <td>225</td>\n",
       "    </tr>\n",
       "    <tr>\n",
       "      <th>2</th>\n",
       "      <td>FL</td>\n",
       "      <td>154</td>\n",
       "    </tr>\n",
       "    <tr>\n",
       "      <th>3</th>\n",
       "      <td>AZ</td>\n",
       "      <td>118</td>\n",
       "    </tr>\n",
       "    <tr>\n",
       "      <th>4</th>\n",
       "      <td>OH</td>\n",
       "      <td>79</td>\n",
       "    </tr>\n",
       "  </tbody>\n",
       "</table>\n",
       "</div>"
      ],
      "text/plain": [
       "  Estado  Frecuencia\n",
       "0     CA         424\n",
       "1     TX         225\n",
       "2     FL         154\n",
       "3     AZ         118\n",
       "4     OH          79"
      ]
     },
     "execution_count": 356,
     "metadata": {},
     "output_type": "execute_result"
    }
   ],
   "source": [
    "FreqEstate=collections.Counter(DeathByState)\n",
    "Conteo_State = pd.DataFrame([[key, FreqEstate[key]] for key in FreqEstate.keys()], columns=['Estado', 'Frecuencia']) #Crear un datafreame con la frecuencia\n",
    "Conteo_State = Conteo_State.sort_values('Frecuencia', ascending=False) #Ordenar de forma descendente\n",
    "#Conteo_State=Conteo_State[Conteo_State['Frecuencia']\n",
    "Conteo_State=Conteo_State.reset_index(drop=True)\n",
    "Conteo_State.iloc[:5]"
   ]
  },
  {
   "cell_type": "code",
   "execution_count": 357,
   "id": "loved-newton",
   "metadata": {},
   "outputs": [
    {
     "data": {
      "text/html": [
       "<div>\n",
       "<style scoped>\n",
       "    .dataframe tbody tr th:only-of-type {\n",
       "        vertical-align: middle;\n",
       "    }\n",
       "\n",
       "    .dataframe tbody tr th {\n",
       "        vertical-align: top;\n",
       "    }\n",
       "\n",
       "    .dataframe thead th {\n",
       "        text-align: right;\n",
       "    }\n",
       "</style>\n",
       "<table border=\"1\" class=\"dataframe\">\n",
       "  <thead>\n",
       "    <tr style=\"text-align: right;\">\n",
       "      <th></th>\n",
       "      <th>id</th>\n",
       "      <th>name</th>\n",
       "      <th>date</th>\n",
       "      <th>manner_of_death</th>\n",
       "      <th>armed</th>\n",
       "      <th>age</th>\n",
       "      <th>gender</th>\n",
       "      <th>race</th>\n",
       "      <th>city</th>\n",
       "      <th>state</th>\n",
       "      <th>signs_of_mental_illness</th>\n",
       "      <th>threat_level</th>\n",
       "      <th>flee</th>\n",
       "      <th>body_camera</th>\n",
       "      <th>day</th>\n",
       "    </tr>\n",
       "  </thead>\n",
       "  <tbody>\n",
       "    <tr>\n",
       "      <th>3</th>\n",
       "      <td>8</td>\n",
       "      <td>Matthew Hoffman</td>\n",
       "      <td>2015-04-01</td>\n",
       "      <td>shot</td>\n",
       "      <td>toy weapon</td>\n",
       "      <td>32.0</td>\n",
       "      <td>M</td>\n",
       "      <td>White</td>\n",
       "      <td>San Francisco</td>\n",
       "      <td>CA</td>\n",
       "      <td>True</td>\n",
       "      <td>attack</td>\n",
       "      <td>Not fleeing</td>\n",
       "      <td>False</td>\n",
       "      <td>2</td>\n",
       "    </tr>\n",
       "    <tr>\n",
       "      <th>6</th>\n",
       "      <td>13</td>\n",
       "      <td>Kenneth Arnold Buck</td>\n",
       "      <td>2015-05-01</td>\n",
       "      <td>shot</td>\n",
       "      <td>gun</td>\n",
       "      <td>22.0</td>\n",
       "      <td>M</td>\n",
       "      <td>Hispanic</td>\n",
       "      <td>Chandler</td>\n",
       "      <td>AZ</td>\n",
       "      <td>False</td>\n",
       "      <td>attack</td>\n",
       "      <td>Car</td>\n",
       "      <td>False</td>\n",
       "      <td>4</td>\n",
       "    </tr>\n",
       "    <tr>\n",
       "      <th>10</th>\n",
       "      <td>19</td>\n",
       "      <td>Patrick Wetter</td>\n",
       "      <td>2015-06-01</td>\n",
       "      <td>shot and Tasered</td>\n",
       "      <td>knife</td>\n",
       "      <td>25.0</td>\n",
       "      <td>M</td>\n",
       "      <td>White</td>\n",
       "      <td>Stockton</td>\n",
       "      <td>CA</td>\n",
       "      <td>False</td>\n",
       "      <td>attack</td>\n",
       "      <td>Not fleeing</td>\n",
       "      <td>False</td>\n",
       "      <td>0</td>\n",
       "    </tr>\n",
       "    <tr>\n",
       "      <th>11</th>\n",
       "      <td>21</td>\n",
       "      <td>Ron Sneed</td>\n",
       "      <td>2015-07-01</td>\n",
       "      <td>shot</td>\n",
       "      <td>gun</td>\n",
       "      <td>31.0</td>\n",
       "      <td>M</td>\n",
       "      <td>Black</td>\n",
       "      <td>Freeport</td>\n",
       "      <td>TX</td>\n",
       "      <td>False</td>\n",
       "      <td>attack</td>\n",
       "      <td>Not fleeing</td>\n",
       "      <td>False</td>\n",
       "      <td>2</td>\n",
       "    </tr>\n",
       "    <tr>\n",
       "      <th>12</th>\n",
       "      <td>22</td>\n",
       "      <td>Hashim Hanif Ibn Abdul-Rasheed</td>\n",
       "      <td>2015-07-01</td>\n",
       "      <td>shot</td>\n",
       "      <td>knife</td>\n",
       "      <td>41.0</td>\n",
       "      <td>M</td>\n",
       "      <td>Black</td>\n",
       "      <td>Columbus</td>\n",
       "      <td>OH</td>\n",
       "      <td>True</td>\n",
       "      <td>other</td>\n",
       "      <td>Not fleeing</td>\n",
       "      <td>False</td>\n",
       "      <td>2</td>\n",
       "    </tr>\n",
       "    <tr>\n",
       "      <th>...</th>\n",
       "      <td>...</td>\n",
       "      <td>...</td>\n",
       "      <td>...</td>\n",
       "      <td>...</td>\n",
       "      <td>...</td>\n",
       "      <td>...</td>\n",
       "      <td>...</td>\n",
       "      <td>...</td>\n",
       "      <td>...</td>\n",
       "      <td>...</td>\n",
       "      <td>...</td>\n",
       "      <td>...</td>\n",
       "      <td>...</td>\n",
       "      <td>...</td>\n",
       "      <td>...</td>\n",
       "    </tr>\n",
       "    <tr>\n",
       "      <th>2522</th>\n",
       "      <td>2807</td>\n",
       "      <td>Susan Teel</td>\n",
       "      <td>2017-07-26</td>\n",
       "      <td>shot</td>\n",
       "      <td>knife</td>\n",
       "      <td>62.0</td>\n",
       "      <td>F</td>\n",
       "      <td>NaN</td>\n",
       "      <td>Vero Beach</td>\n",
       "      <td>FL</td>\n",
       "      <td>True</td>\n",
       "      <td>attack</td>\n",
       "      <td>Not fleeing</td>\n",
       "      <td>False</td>\n",
       "      <td>2</td>\n",
       "    </tr>\n",
       "    <tr>\n",
       "      <th>2523</th>\n",
       "      <td>2808</td>\n",
       "      <td>Kesharn K. Burney</td>\n",
       "      <td>2017-07-26</td>\n",
       "      <td>shot</td>\n",
       "      <td>vehicle</td>\n",
       "      <td>25.0</td>\n",
       "      <td>M</td>\n",
       "      <td>Black</td>\n",
       "      <td>Dayton</td>\n",
       "      <td>OH</td>\n",
       "      <td>False</td>\n",
       "      <td>attack</td>\n",
       "      <td>Car</td>\n",
       "      <td>False</td>\n",
       "      <td>2</td>\n",
       "    </tr>\n",
       "    <tr>\n",
       "      <th>2524</th>\n",
       "      <td>2816</td>\n",
       "      <td>Jerauld Phillip Hammond II</td>\n",
       "      <td>2017-07-27</td>\n",
       "      <td>shot</td>\n",
       "      <td>gun</td>\n",
       "      <td>46.0</td>\n",
       "      <td>M</td>\n",
       "      <td>NaN</td>\n",
       "      <td>Los Angeles</td>\n",
       "      <td>CA</td>\n",
       "      <td>False</td>\n",
       "      <td>other</td>\n",
       "      <td>Not fleeing</td>\n",
       "      <td>False</td>\n",
       "      <td>3</td>\n",
       "    </tr>\n",
       "    <tr>\n",
       "      <th>2526</th>\n",
       "      <td>2809</td>\n",
       "      <td>Sergio Velasco-Martinez</td>\n",
       "      <td>2017-07-27</td>\n",
       "      <td>shot</td>\n",
       "      <td>blunt object</td>\n",
       "      <td>25.0</td>\n",
       "      <td>M</td>\n",
       "      <td>NaN</td>\n",
       "      <td>Avenal</td>\n",
       "      <td>CA</td>\n",
       "      <td>False</td>\n",
       "      <td>attack</td>\n",
       "      <td>Not fleeing</td>\n",
       "      <td>False</td>\n",
       "      <td>3</td>\n",
       "    </tr>\n",
       "    <tr>\n",
       "      <th>2528</th>\n",
       "      <td>2812</td>\n",
       "      <td>Alejandro Alvarado</td>\n",
       "      <td>2017-07-27</td>\n",
       "      <td>shot</td>\n",
       "      <td>knife</td>\n",
       "      <td>NaN</td>\n",
       "      <td>M</td>\n",
       "      <td>Hispanic</td>\n",
       "      <td>Chowchilla</td>\n",
       "      <td>CA</td>\n",
       "      <td>False</td>\n",
       "      <td>attack</td>\n",
       "      <td>Not fleeing</td>\n",
       "      <td>False</td>\n",
       "      <td>3</td>\n",
       "    </tr>\n",
       "  </tbody>\n",
       "</table>\n",
       "<p>1000 rows × 15 columns</p>\n",
       "</div>"
      ],
      "text/plain": [
       "        id                            name       date   manner_of_death  \\\n",
       "3        8                 Matthew Hoffman 2015-04-01              shot   \n",
       "6       13             Kenneth Arnold Buck 2015-05-01              shot   \n",
       "10      19                  Patrick Wetter 2015-06-01  shot and Tasered   \n",
       "11      21                       Ron Sneed 2015-07-01              shot   \n",
       "12      22  Hashim Hanif Ibn Abdul-Rasheed 2015-07-01              shot   \n",
       "...    ...                             ...        ...               ...   \n",
       "2522  2807                      Susan Teel 2017-07-26              shot   \n",
       "2523  2808               Kesharn K. Burney 2017-07-26              shot   \n",
       "2524  2816      Jerauld Phillip Hammond II 2017-07-27              shot   \n",
       "2526  2809         Sergio Velasco-Martinez 2017-07-27              shot   \n",
       "2528  2812              Alejandro Alvarado 2017-07-27              shot   \n",
       "\n",
       "             armed   age gender      race           city state  \\\n",
       "3       toy weapon  32.0      M     White  San Francisco    CA   \n",
       "6              gun  22.0      M  Hispanic       Chandler    AZ   \n",
       "10           knife  25.0      M     White       Stockton    CA   \n",
       "11             gun  31.0      M     Black       Freeport    TX   \n",
       "12           knife  41.0      M     Black       Columbus    OH   \n",
       "...            ...   ...    ...       ...            ...   ...   \n",
       "2522         knife  62.0      F       NaN     Vero Beach    FL   \n",
       "2523       vehicle  25.0      M     Black         Dayton    OH   \n",
       "2524           gun  46.0      M       NaN    Los Angeles    CA   \n",
       "2526  blunt object  25.0      M       NaN         Avenal    CA   \n",
       "2528         knife   NaN      M  Hispanic     Chowchilla    CA   \n",
       "\n",
       "      signs_of_mental_illness threat_level         flee  body_camera  day  \n",
       "3                        True       attack  Not fleeing        False    2  \n",
       "6                       False       attack          Car        False    4  \n",
       "10                      False       attack  Not fleeing        False    0  \n",
       "11                      False       attack  Not fleeing        False    2  \n",
       "12                       True        other  Not fleeing        False    2  \n",
       "...                       ...          ...          ...          ...  ...  \n",
       "2522                     True       attack  Not fleeing        False    2  \n",
       "2523                    False       attack          Car        False    2  \n",
       "2524                    False        other  Not fleeing        False    3  \n",
       "2526                    False       attack  Not fleeing        False    3  \n",
       "2528                    False       attack  Not fleeing        False    3  \n",
       "\n",
       "[1000 rows x 15 columns]"
      ]
     },
     "execution_count": 357,
     "metadata": {},
     "output_type": "execute_result"
    }
   ],
   "source": [
    "df_state=AsesPolicia[AsesPolicia['state'].isin(['CA', 'TX', 'FL', 'AZ', 'OH'])]\n",
    "df_state"
   ]
  },
  {
   "cell_type": "code",
   "execution_count": 358,
   "id": "subtle-saint",
   "metadata": {},
   "outputs": [
    {
     "data": {
      "text/html": [
       "<div>\n",
       "<style scoped>\n",
       "    .dataframe tbody tr th:only-of-type {\n",
       "        vertical-align: middle;\n",
       "    }\n",
       "\n",
       "    .dataframe tbody tr th {\n",
       "        vertical-align: top;\n",
       "    }\n",
       "\n",
       "    .dataframe thead th {\n",
       "        text-align: right;\n",
       "    }\n",
       "</style>\n",
       "<table border=\"1\" class=\"dataframe\">\n",
       "  <thead>\n",
       "    <tr style=\"text-align: right;\">\n",
       "      <th></th>\n",
       "      <th>CA</th>\n",
       "      <th>TX</th>\n",
       "      <th>FL</th>\n",
       "      <th>AZ</th>\n",
       "      <th>OH</th>\n",
       "    </tr>\n",
       "  </thead>\n",
       "  <tbody>\n",
       "    <tr>\n",
       "      <th>2015-01-03</th>\n",
       "      <td>1</td>\n",
       "      <td>1.0</td>\n",
       "      <td>NaN</td>\n",
       "      <td>NaN</td>\n",
       "      <td>NaN</td>\n",
       "    </tr>\n",
       "    <tr>\n",
       "      <th>2015-01-04</th>\n",
       "      <td>1</td>\n",
       "      <td>NaN</td>\n",
       "      <td>NaN</td>\n",
       "      <td>NaN</td>\n",
       "      <td>NaN</td>\n",
       "    </tr>\n",
       "    <tr>\n",
       "      <th>2015-01-11</th>\n",
       "      <td>1</td>\n",
       "      <td>NaN</td>\n",
       "      <td>NaN</td>\n",
       "      <td>NaN</td>\n",
       "      <td>NaN</td>\n",
       "    </tr>\n",
       "    <tr>\n",
       "      <th>2015-01-12</th>\n",
       "      <td>1</td>\n",
       "      <td>NaN</td>\n",
       "      <td>NaN</td>\n",
       "      <td>NaN</td>\n",
       "      <td>NaN</td>\n",
       "    </tr>\n",
       "    <tr>\n",
       "      <th>2015-01-15</th>\n",
       "      <td>1</td>\n",
       "      <td>NaN</td>\n",
       "      <td>NaN</td>\n",
       "      <td>NaN</td>\n",
       "      <td>NaN</td>\n",
       "    </tr>\n",
       "    <tr>\n",
       "      <th>...</th>\n",
       "      <td>...</td>\n",
       "      <td>...</td>\n",
       "      <td>...</td>\n",
       "      <td>...</td>\n",
       "      <td>...</td>\n",
       "    </tr>\n",
       "    <tr>\n",
       "      <th>2017-12-02</th>\n",
       "      <td>1</td>\n",
       "      <td>1.0</td>\n",
       "      <td>NaN</td>\n",
       "      <td>NaN</td>\n",
       "      <td>NaN</td>\n",
       "    </tr>\n",
       "    <tr>\n",
       "      <th>2017-12-03</th>\n",
       "      <td>1</td>\n",
       "      <td>NaN</td>\n",
       "      <td>NaN</td>\n",
       "      <td>NaN</td>\n",
       "      <td>NaN</td>\n",
       "    </tr>\n",
       "    <tr>\n",
       "      <th>2017-12-04</th>\n",
       "      <td>1</td>\n",
       "      <td>NaN</td>\n",
       "      <td>NaN</td>\n",
       "      <td>NaN</td>\n",
       "      <td>NaN</td>\n",
       "    </tr>\n",
       "    <tr>\n",
       "      <th>2017-12-06</th>\n",
       "      <td>1</td>\n",
       "      <td>1.0</td>\n",
       "      <td>NaN</td>\n",
       "      <td>NaN</td>\n",
       "      <td>NaN</td>\n",
       "    </tr>\n",
       "    <tr>\n",
       "      <th>2017-12-07</th>\n",
       "      <td>1</td>\n",
       "      <td>NaN</td>\n",
       "      <td>NaN</td>\n",
       "      <td>NaN</td>\n",
       "      <td>NaN</td>\n",
       "    </tr>\n",
       "  </tbody>\n",
       "</table>\n",
       "<p>338 rows × 5 columns</p>\n",
       "</div>"
      ],
      "text/plain": [
       "            CA   TX  FL  AZ  OH\n",
       "2015-01-03   1  1.0 NaN NaN NaN\n",
       "2015-01-04   1  NaN NaN NaN NaN\n",
       "2015-01-11   1  NaN NaN NaN NaN\n",
       "2015-01-12   1  NaN NaN NaN NaN\n",
       "2015-01-15   1  NaN NaN NaN NaN\n",
       "...         ..  ...  ..  ..  ..\n",
       "2017-12-02   1  1.0 NaN NaN NaN\n",
       "2017-12-03   1  NaN NaN NaN NaN\n",
       "2017-12-04   1  NaN NaN NaN NaN\n",
       "2017-12-06   1  1.0 NaN NaN NaN\n",
       "2017-12-07   1  NaN NaN NaN NaN\n",
       "\n",
       "[338 rows x 5 columns]"
      ]
     },
     "execution_count": 358,
     "metadata": {},
     "output_type": "execute_result"
    }
   ],
   "source": [
    "data=pd.DataFrame()\n",
    "data['CA']=df_state.loc[df_state['state']=='CA']['date'].value_counts().sort_index()\n",
    "data['TX']=df_state.loc[df_state['state']=='TX']['date'].value_counts().sort_index()\n",
    "data['FL']=df_state.loc[df_state['state']=='FL']['date'].value_counts().sort_index()\n",
    "data['AZ']=df_state.loc[df_state['state']=='AZ']['date'].value_counts().sort_index()\n",
    "data['OH']=df_state.loc[df_state['state']=='OH']['date'].value_counts().sort_index()\n",
    "data"
   ]
  },
  {
   "cell_type": "code",
   "execution_count": 359,
   "id": "announced-ambassador",
   "metadata": {},
   "outputs": [],
   "source": [
    "data.index = data.index.astype('datetime64[ns]')"
   ]
  },
  {
   "cell_type": "code",
   "execution_count": 360,
   "id": "alike-reform",
   "metadata": {},
   "outputs": [
    {
     "data": {
      "image/png": "[encoded data removed]",
      "text/plain": [
       "<Figure size 1080x576 with 1 Axes>"
      ]
     },
     "metadata": {
      "needs_background": "light"
     },
     "output_type": "display_data"
    }
   ],
   "source": [
    "Muertes_state=df_state['date'].value_counts().sort_index()\n",
    "\n",
    "plt.figure(figsize=(15,8))\n",
    "sns.lineplot(data=data, x=data.index.year, y=data.CA, label='CA',linewidth=3)\n",
    "sns.lineplot(data=data, x=data.index.year, y=data.TX, label='TX',linewidth=3)\n",
    "sns.lineplot(data=data, x=data.index.year, y=data.FL, label='FL',linewidth=3)\n",
    "sns.lineplot(data=data, x=data.index.year, y=data.AZ, label='AZ',linewidth=3)\n",
    "sns.lineplot(data=data, x=data.index.year, y=data.OH, label='OH',linewidth=3)\n",
    "plt.title('Comportamiento muertes por estado', weight='bold')\n",
    "plt.xticks(rotation=40)\n",
    "plt.show()\n",
    "\n"
   ]
  },
  {
   "cell_type": "markdown",
   "id": "durable-blogger",
   "metadata": {},
   "source": [
    "- ### b. Realice un análisis del ingreso, escolaridad, raza y pobreza para cada uno de los 5 estados"
   ]
  },
  {
   "cell_type": "markdown",
   "id": "expired-momentum",
   "metadata": {},
   "source": [
    "### Analisis ingreso, raza, escolaridad y pobreza\n",
    "#### - Cargar datos"
   ]
  },
  {
   "cell_type": "code",
   "execution_count": 361,
   "id": "blind-support",
   "metadata": {},
   "outputs": [
    {
     "data": {
      "text/html": [
       "<div>\n",
       "<style scoped>\n",
       "    .dataframe tbody tr th:only-of-type {\n",
       "        vertical-align: middle;\n",
       "    }\n",
       "\n",
       "    .dataframe tbody tr th {\n",
       "        vertical-align: top;\n",
       "    }\n",
       "\n",
       "    .dataframe thead th {\n",
       "        text-align: right;\n",
       "    }\n",
       "</style>\n",
       "<table border=\"1\" class=\"dataframe\">\n",
       "  <thead>\n",
       "    <tr style=\"text-align: right;\">\n",
       "      <th></th>\n",
       "      <th>Geographic Area</th>\n",
       "      <th>City</th>\n",
       "      <th>percent_completed_hs</th>\n",
       "    </tr>\n",
       "  </thead>\n",
       "  <tbody>\n",
       "    <tr>\n",
       "      <th>0</th>\n",
       "      <td>AL</td>\n",
       "      <td>Abanda CDP</td>\n",
       "      <td>21.2</td>\n",
       "    </tr>\n",
       "    <tr>\n",
       "      <th>1</th>\n",
       "      <td>AL</td>\n",
       "      <td>Abbeville city</td>\n",
       "      <td>69.1</td>\n",
       "    </tr>\n",
       "    <tr>\n",
       "      <th>2</th>\n",
       "      <td>AL</td>\n",
       "      <td>Adamsville city</td>\n",
       "      <td>78.9</td>\n",
       "    </tr>\n",
       "    <tr>\n",
       "      <th>3</th>\n",
       "      <td>AL</td>\n",
       "      <td>Addison town</td>\n",
       "      <td>81.4</td>\n",
       "    </tr>\n",
       "    <tr>\n",
       "      <th>4</th>\n",
       "      <td>AL</td>\n",
       "      <td>Akron town</td>\n",
       "      <td>68.6</td>\n",
       "    </tr>\n",
       "    <tr>\n",
       "      <th>...</th>\n",
       "      <td>...</td>\n",
       "      <td>...</td>\n",
       "      <td>...</td>\n",
       "    </tr>\n",
       "    <tr>\n",
       "      <th>29324</th>\n",
       "      <td>WY</td>\n",
       "      <td>Woods Landing-Jelm CDP</td>\n",
       "      <td>100</td>\n",
       "    </tr>\n",
       "    <tr>\n",
       "      <th>29325</th>\n",
       "      <td>WY</td>\n",
       "      <td>Worland city</td>\n",
       "      <td>85.6</td>\n",
       "    </tr>\n",
       "    <tr>\n",
       "      <th>29326</th>\n",
       "      <td>WY</td>\n",
       "      <td>Wright town</td>\n",
       "      <td>89.2</td>\n",
       "    </tr>\n",
       "    <tr>\n",
       "      <th>29327</th>\n",
       "      <td>WY</td>\n",
       "      <td>Yoder town</td>\n",
       "      <td>79.4</td>\n",
       "    </tr>\n",
       "    <tr>\n",
       "      <th>29328</th>\n",
       "      <td>WY</td>\n",
       "      <td>Y-O Ranch CDP</td>\n",
       "      <td>100</td>\n",
       "    </tr>\n",
       "  </tbody>\n",
       "</table>\n",
       "<p>29329 rows × 3 columns</p>\n",
       "</div>"
      ],
      "text/plain": [
       "      Geographic Area                    City percent_completed_hs\n",
       "0                  AL              Abanda CDP                 21.2\n",
       "1                  AL          Abbeville city                 69.1\n",
       "2                  AL         Adamsville city                 78.9\n",
       "3                  AL            Addison town                 81.4\n",
       "4                  AL              Akron town                 68.6\n",
       "...               ...                     ...                  ...\n",
       "29324              WY  Woods Landing-Jelm CDP                  100\n",
       "29325              WY            Worland city                 85.6\n",
       "29326              WY             Wright town                 89.2\n",
       "29327              WY              Yoder town                 79.4\n",
       "29328              WY           Y-O Ranch CDP                  100\n",
       "\n",
       "[29329 rows x 3 columns]"
      ]
     },
     "execution_count": 361,
     "metadata": {},
     "output_type": "execute_result"
    }
   ],
   "source": [
    "educacion=pd.DataFrame(pd.read_csv('EducacionCiudades.csv'))\n",
    "educacion"
   ]
  },
  {
   "cell_type": "code",
   "execution_count": 362,
   "id": "proprietary-photographer",
   "metadata": {},
   "outputs": [
    {
     "data": {
      "text/html": [
       "<div>\n",
       "<style scoped>\n",
       "    .dataframe tbody tr th:only-of-type {\n",
       "        vertical-align: middle;\n",
       "    }\n",
       "\n",
       "    .dataframe tbody tr th {\n",
       "        vertical-align: top;\n",
       "    }\n",
       "\n",
       "    .dataframe thead th {\n",
       "        text-align: right;\n",
       "    }\n",
       "</style>\n",
       "<table border=\"1\" class=\"dataframe\">\n",
       "  <thead>\n",
       "    <tr style=\"text-align: right;\">\n",
       "      <th></th>\n",
       "      <th>Geographic Area</th>\n",
       "      <th>City</th>\n",
       "      <th>Median Income</th>\n",
       "    </tr>\n",
       "  </thead>\n",
       "  <tbody>\n",
       "    <tr>\n",
       "      <th>0</th>\n",
       "      <td>AL</td>\n",
       "      <td>Abanda CDP</td>\n",
       "      <td>11207</td>\n",
       "    </tr>\n",
       "    <tr>\n",
       "      <th>1</th>\n",
       "      <td>AL</td>\n",
       "      <td>Abbeville city</td>\n",
       "      <td>25615</td>\n",
       "    </tr>\n",
       "    <tr>\n",
       "      <th>2</th>\n",
       "      <td>AL</td>\n",
       "      <td>Adamsville city</td>\n",
       "      <td>42575</td>\n",
       "    </tr>\n",
       "    <tr>\n",
       "      <th>3</th>\n",
       "      <td>AL</td>\n",
       "      <td>Addison town</td>\n",
       "      <td>37083</td>\n",
       "    </tr>\n",
       "    <tr>\n",
       "      <th>4</th>\n",
       "      <td>AL</td>\n",
       "      <td>Akron town</td>\n",
       "      <td>21667</td>\n",
       "    </tr>\n",
       "    <tr>\n",
       "      <th>...</th>\n",
       "      <td>...</td>\n",
       "      <td>...</td>\n",
       "      <td>...</td>\n",
       "    </tr>\n",
       "    <tr>\n",
       "      <th>29317</th>\n",
       "      <td>WY</td>\n",
       "      <td>Woods Landing-Jelm CDP</td>\n",
       "      <td>NaN</td>\n",
       "    </tr>\n",
       "    <tr>\n",
       "      <th>29318</th>\n",
       "      <td>WY</td>\n",
       "      <td>Worland city</td>\n",
       "      <td>41523</td>\n",
       "    </tr>\n",
       "    <tr>\n",
       "      <th>29319</th>\n",
       "      <td>WY</td>\n",
       "      <td>Wright town</td>\n",
       "      <td>77114</td>\n",
       "    </tr>\n",
       "    <tr>\n",
       "      <th>29320</th>\n",
       "      <td>WY</td>\n",
       "      <td>Yoder town</td>\n",
       "      <td>37500</td>\n",
       "    </tr>\n",
       "    <tr>\n",
       "      <th>29321</th>\n",
       "      <td>WY</td>\n",
       "      <td>Y-O Ranch CDP</td>\n",
       "      <td>NaN</td>\n",
       "    </tr>\n",
       "  </tbody>\n",
       "</table>\n",
       "<p>29322 rows × 3 columns</p>\n",
       "</div>"
      ],
      "text/plain": [
       "      Geographic Area                    City Median Income\n",
       "0                  AL              Abanda CDP         11207\n",
       "1                  AL          Abbeville city         25615\n",
       "2                  AL         Adamsville city         42575\n",
       "3                  AL            Addison town         37083\n",
       "4                  AL              Akron town         21667\n",
       "...               ...                     ...           ...\n",
       "29317              WY  Woods Landing-Jelm CDP           NaN\n",
       "29318              WY            Worland city         41523\n",
       "29319              WY             Wright town         77114\n",
       "29320              WY              Yoder town         37500\n",
       "29321              WY           Y-O Ranch CDP           NaN\n",
       "\n",
       "[29322 rows x 3 columns]"
      ]
     },
     "execution_count": 362,
     "metadata": {},
     "output_type": "execute_result"
    }
   ],
   "source": [
    "ingreso=pd.DataFrame(pd.read_csv('IngresoCiudades.csv'))\n",
    "ingreso"
   ]
  },
  {
   "cell_type": "code",
   "execution_count": 363,
   "id": "occasional-details",
   "metadata": {},
   "outputs": [
    {
     "data": {
      "text/html": [
       "<div>\n",
       "<style scoped>\n",
       "    .dataframe tbody tr th:only-of-type {\n",
       "        vertical-align: middle;\n",
       "    }\n",
       "\n",
       "    .dataframe tbody tr th {\n",
       "        vertical-align: top;\n",
       "    }\n",
       "\n",
       "    .dataframe thead th {\n",
       "        text-align: right;\n",
       "    }\n",
       "</style>\n",
       "<table border=\"1\" class=\"dataframe\">\n",
       "  <thead>\n",
       "    <tr style=\"text-align: right;\">\n",
       "      <th></th>\n",
       "      <th>Geographic Area</th>\n",
       "      <th>City</th>\n",
       "      <th>poverty_rate</th>\n",
       "    </tr>\n",
       "  </thead>\n",
       "  <tbody>\n",
       "    <tr>\n",
       "      <th>0</th>\n",
       "      <td>AL</td>\n",
       "      <td>Abanda CDP</td>\n",
       "      <td>78.8</td>\n",
       "    </tr>\n",
       "    <tr>\n",
       "      <th>1</th>\n",
       "      <td>AL</td>\n",
       "      <td>Abbeville city</td>\n",
       "      <td>29.1</td>\n",
       "    </tr>\n",
       "    <tr>\n",
       "      <th>2</th>\n",
       "      <td>AL</td>\n",
       "      <td>Adamsville city</td>\n",
       "      <td>25.5</td>\n",
       "    </tr>\n",
       "    <tr>\n",
       "      <th>3</th>\n",
       "      <td>AL</td>\n",
       "      <td>Addison town</td>\n",
       "      <td>30.7</td>\n",
       "    </tr>\n",
       "    <tr>\n",
       "      <th>4</th>\n",
       "      <td>AL</td>\n",
       "      <td>Akron town</td>\n",
       "      <td>42</td>\n",
       "    </tr>\n",
       "    <tr>\n",
       "      <th>...</th>\n",
       "      <td>...</td>\n",
       "      <td>...</td>\n",
       "      <td>...</td>\n",
       "    </tr>\n",
       "    <tr>\n",
       "      <th>29324</th>\n",
       "      <td>WY</td>\n",
       "      <td>Woods Landing-Jelm CDP</td>\n",
       "      <td>18.6</td>\n",
       "    </tr>\n",
       "    <tr>\n",
       "      <th>29325</th>\n",
       "      <td>WY</td>\n",
       "      <td>Worland city</td>\n",
       "      <td>15.3</td>\n",
       "    </tr>\n",
       "    <tr>\n",
       "      <th>29326</th>\n",
       "      <td>WY</td>\n",
       "      <td>Wright town</td>\n",
       "      <td>5.9</td>\n",
       "    </tr>\n",
       "    <tr>\n",
       "      <th>29327</th>\n",
       "      <td>WY</td>\n",
       "      <td>Yoder town</td>\n",
       "      <td>5.4</td>\n",
       "    </tr>\n",
       "    <tr>\n",
       "      <th>29328</th>\n",
       "      <td>WY</td>\n",
       "      <td>Y-O Ranch CDP</td>\n",
       "      <td>0</td>\n",
       "    </tr>\n",
       "  </tbody>\n",
       "</table>\n",
       "<p>29329 rows × 3 columns</p>\n",
       "</div>"
      ],
      "text/plain": [
       "      Geographic Area                    City poverty_rate\n",
       "0                  AL              Abanda CDP         78.8\n",
       "1                  AL          Abbeville city         29.1\n",
       "2                  AL         Adamsville city         25.5\n",
       "3                  AL            Addison town         30.7\n",
       "4                  AL              Akron town           42\n",
       "...               ...                     ...          ...\n",
       "29324              WY  Woods Landing-Jelm CDP         18.6\n",
       "29325              WY            Worland city         15.3\n",
       "29326              WY             Wright town          5.9\n",
       "29327              WY              Yoder town          5.4\n",
       "29328              WY           Y-O Ranch CDP            0\n",
       "\n",
       "[29329 rows x 3 columns]"
      ]
     },
     "execution_count": 363,
     "metadata": {},
     "output_type": "execute_result"
    }
   ],
   "source": [
    "pobreza=pd.DataFrame(pd.read_csv('PobrezaCiudades.csv'))\n",
    "pobreza"
   ]
  },
  {
   "cell_type": "code",
   "execution_count": 364,
   "id": "personal-chapter",
   "metadata": {},
   "outputs": [
    {
     "data": {
      "text/html": [
       "<div>\n",
       "<style scoped>\n",
       "    .dataframe tbody tr th:only-of-type {\n",
       "        vertical-align: middle;\n",
       "    }\n",
       "\n",
       "    .dataframe tbody tr th {\n",
       "        vertical-align: top;\n",
       "    }\n",
       "\n",
       "    .dataframe thead th {\n",
       "        text-align: right;\n",
       "    }\n",
       "</style>\n",
       "<table border=\"1\" class=\"dataframe\">\n",
       "  <thead>\n",
       "    <tr style=\"text-align: right;\">\n",
       "      <th></th>\n",
       "      <th>Geographic Area</th>\n",
       "      <th>City</th>\n",
       "      <th>share_white</th>\n",
       "      <th>share_black</th>\n",
       "      <th>share_native_american</th>\n",
       "      <th>share_asian</th>\n",
       "      <th>share_hispanic</th>\n",
       "    </tr>\n",
       "  </thead>\n",
       "  <tbody>\n",
       "    <tr>\n",
       "      <th>0</th>\n",
       "      <td>AL</td>\n",
       "      <td>Abanda CDP</td>\n",
       "      <td>67.2</td>\n",
       "      <td>30.2</td>\n",
       "      <td>0</td>\n",
       "      <td>0</td>\n",
       "      <td>1.6</td>\n",
       "    </tr>\n",
       "    <tr>\n",
       "      <th>1</th>\n",
       "      <td>AL</td>\n",
       "      <td>Abbeville city</td>\n",
       "      <td>54.4</td>\n",
       "      <td>41.4</td>\n",
       "      <td>0.1</td>\n",
       "      <td>1</td>\n",
       "      <td>3.1</td>\n",
       "    </tr>\n",
       "    <tr>\n",
       "      <th>2</th>\n",
       "      <td>AL</td>\n",
       "      <td>Adamsville city</td>\n",
       "      <td>52.3</td>\n",
       "      <td>44.9</td>\n",
       "      <td>0.5</td>\n",
       "      <td>0.3</td>\n",
       "      <td>2.3</td>\n",
       "    </tr>\n",
       "    <tr>\n",
       "      <th>3</th>\n",
       "      <td>AL</td>\n",
       "      <td>Addison town</td>\n",
       "      <td>99.1</td>\n",
       "      <td>0.1</td>\n",
       "      <td>0</td>\n",
       "      <td>0.1</td>\n",
       "      <td>0.4</td>\n",
       "    </tr>\n",
       "    <tr>\n",
       "      <th>4</th>\n",
       "      <td>AL</td>\n",
       "      <td>Akron town</td>\n",
       "      <td>13.2</td>\n",
       "      <td>86.5</td>\n",
       "      <td>0</td>\n",
       "      <td>0</td>\n",
       "      <td>0.3</td>\n",
       "    </tr>\n",
       "    <tr>\n",
       "      <th>...</th>\n",
       "      <td>...</td>\n",
       "      <td>...</td>\n",
       "      <td>...</td>\n",
       "      <td>...</td>\n",
       "      <td>...</td>\n",
       "      <td>...</td>\n",
       "      <td>...</td>\n",
       "    </tr>\n",
       "    <tr>\n",
       "      <th>29263</th>\n",
       "      <td>WY</td>\n",
       "      <td>Woods Landing-Jelm CDP</td>\n",
       "      <td>95.9</td>\n",
       "      <td>0</td>\n",
       "      <td>0</td>\n",
       "      <td>2.1</td>\n",
       "      <td>0</td>\n",
       "    </tr>\n",
       "    <tr>\n",
       "      <th>29264</th>\n",
       "      <td>WY</td>\n",
       "      <td>Worland city</td>\n",
       "      <td>89.9</td>\n",
       "      <td>0.3</td>\n",
       "      <td>1.3</td>\n",
       "      <td>0.6</td>\n",
       "      <td>16.6</td>\n",
       "    </tr>\n",
       "    <tr>\n",
       "      <th>29265</th>\n",
       "      <td>WY</td>\n",
       "      <td>Wright town</td>\n",
       "      <td>94.5</td>\n",
       "      <td>0.1</td>\n",
       "      <td>1.4</td>\n",
       "      <td>0.2</td>\n",
       "      <td>6.2</td>\n",
       "    </tr>\n",
       "    <tr>\n",
       "      <th>29266</th>\n",
       "      <td>WY</td>\n",
       "      <td>Yoder town</td>\n",
       "      <td>97.4</td>\n",
       "      <td>0</td>\n",
       "      <td>0</td>\n",
       "      <td>0</td>\n",
       "      <td>4</td>\n",
       "    </tr>\n",
       "    <tr>\n",
       "      <th>29267</th>\n",
       "      <td>WY</td>\n",
       "      <td>Y-O Ranch CDP</td>\n",
       "      <td>92.8</td>\n",
       "      <td>1.5</td>\n",
       "      <td>2.6</td>\n",
       "      <td>0</td>\n",
       "      <td>11.8</td>\n",
       "    </tr>\n",
       "  </tbody>\n",
       "</table>\n",
       "<p>29268 rows × 7 columns</p>\n",
       "</div>"
      ],
      "text/plain": [
       "      Geographic Area                    City share_white share_black  \\\n",
       "0                  AL              Abanda CDP        67.2        30.2   \n",
       "1                  AL          Abbeville city        54.4        41.4   \n",
       "2                  AL         Adamsville city        52.3        44.9   \n",
       "3                  AL            Addison town        99.1         0.1   \n",
       "4                  AL              Akron town        13.2        86.5   \n",
       "...               ...                     ...         ...         ...   \n",
       "29263              WY  Woods Landing-Jelm CDP        95.9           0   \n",
       "29264              WY            Worland city        89.9         0.3   \n",
       "29265              WY             Wright town        94.5         0.1   \n",
       "29266              WY              Yoder town        97.4           0   \n",
       "29267              WY           Y-O Ranch CDP        92.8         1.5   \n",
       "\n",
       "      share_native_american share_asian share_hispanic  \n",
       "0                         0           0            1.6  \n",
       "1                       0.1           1            3.1  \n",
       "2                       0.5         0.3            2.3  \n",
       "3                         0         0.1            0.4  \n",
       "4                         0           0            0.3  \n",
       "...                     ...         ...            ...  \n",
       "29263                     0         2.1              0  \n",
       "29264                   1.3         0.6           16.6  \n",
       "29265                   1.4         0.2            6.2  \n",
       "29266                     0           0              4  \n",
       "29267                   2.6           0           11.8  \n",
       "\n",
       "[29268 rows x 7 columns]"
      ]
     },
     "execution_count": 364,
     "metadata": {},
     "output_type": "execute_result"
    }
   ],
   "source": [
    "raza=pd.DataFrame(pd.read_csv('RazaCiudades.csv'))\n",
    "raza.rename(columns={'Geographic area':'Geographic Area'}, inplace=True)\n",
    "raza"
   ]
  },
  {
   "cell_type": "markdown",
   "id": "empty-shoot",
   "metadata": {},
   "source": [
    "### Hacer merge con los dataframes por \"City\" y \"Geographic Area\" que son las variables que se repiten en todos"
   ]
  },
  {
   "cell_type": "code",
   "execution_count": 365,
   "id": "employed-ceramic",
   "metadata": {},
   "outputs": [
    {
     "data": {
      "text/html": [
       "<div>\n",
       "<style scoped>\n",
       "    .dataframe tbody tr th:only-of-type {\n",
       "        vertical-align: middle;\n",
       "    }\n",
       "\n",
       "    .dataframe tbody tr th {\n",
       "        vertical-align: top;\n",
       "    }\n",
       "\n",
       "    .dataframe thead th {\n",
       "        text-align: right;\n",
       "    }\n",
       "</style>\n",
       "<table border=\"1\" class=\"dataframe\">\n",
       "  <thead>\n",
       "    <tr style=\"text-align: right;\">\n",
       "      <th></th>\n",
       "      <th>Geographic Area</th>\n",
       "      <th>City</th>\n",
       "      <th>percent_completed_hs</th>\n",
       "      <th>Median Income</th>\n",
       "      <th>poverty_rate</th>\n",
       "      <th>share_white</th>\n",
       "      <th>share_black</th>\n",
       "      <th>share_native_american</th>\n",
       "      <th>share_asian</th>\n",
       "      <th>share_hispanic</th>\n",
       "    </tr>\n",
       "  </thead>\n",
       "  <tbody>\n",
       "    <tr>\n",
       "      <th>930</th>\n",
       "      <td>AZ</td>\n",
       "      <td>Aguila CDP</td>\n",
       "      <td>26.1</td>\n",
       "      <td>26842.0</td>\n",
       "      <td>57.4</td>\n",
       "      <td>64.7</td>\n",
       "      <td>1.0</td>\n",
       "      <td>3.6</td>\n",
       "      <td>0.4</td>\n",
       "      <td>69.4</td>\n",
       "    </tr>\n",
       "    <tr>\n",
       "      <th>931</th>\n",
       "      <td>AZ</td>\n",
       "      <td>Ajo CDP</td>\n",
       "      <td>80.0</td>\n",
       "      <td>32964.0</td>\n",
       "      <td>33.6</td>\n",
       "      <td>75.1</td>\n",
       "      <td>0.9</td>\n",
       "      <td>9.9</td>\n",
       "      <td>1.1</td>\n",
       "      <td>38.3</td>\n",
       "    </tr>\n",
       "    <tr>\n",
       "      <th>932</th>\n",
       "      <td>AZ</td>\n",
       "      <td>Ak Chin CDP</td>\n",
       "      <td>100.0</td>\n",
       "      <td>NaN</td>\n",
       "      <td>12.1</td>\n",
       "      <td>0.0</td>\n",
       "      <td>0.0</td>\n",
       "      <td>100.0</td>\n",
       "      <td>0.0</td>\n",
       "      <td>3.3</td>\n",
       "    </tr>\n",
       "    <tr>\n",
       "      <th>933</th>\n",
       "      <td>AZ</td>\n",
       "      <td>Ak-Chin Village CDP</td>\n",
       "      <td>59.8</td>\n",
       "      <td>25197.0</td>\n",
       "      <td>54.5</td>\n",
       "      <td>2.7</td>\n",
       "      <td>0.6</td>\n",
       "      <td>75.4</td>\n",
       "      <td>0.0</td>\n",
       "      <td>27.5</td>\n",
       "    </tr>\n",
       "    <tr>\n",
       "      <th>934</th>\n",
       "      <td>AZ</td>\n",
       "      <td>Alamo Lake CDP</td>\n",
       "      <td>100.0</td>\n",
       "      <td>NaN</td>\n",
       "      <td>0.0</td>\n",
       "      <td>100.0</td>\n",
       "      <td>0.0</td>\n",
       "      <td>0.0</td>\n",
       "      <td>0.0</td>\n",
       "      <td>0.0</td>\n",
       "    </tr>\n",
       "    <tr>\n",
       "      <th>...</th>\n",
       "      <td>...</td>\n",
       "      <td>...</td>\n",
       "      <td>...</td>\n",
       "      <td>...</td>\n",
       "      <td>...</td>\n",
       "      <td>...</td>\n",
       "      <td>...</td>\n",
       "      <td>...</td>\n",
       "      <td>...</td>\n",
       "      <td>...</td>\n",
       "    </tr>\n",
       "    <tr>\n",
       "      <th>26091</th>\n",
       "      <td>TX</td>\n",
       "      <td>Zapata CDP</td>\n",
       "      <td>57.7</td>\n",
       "      <td>37088.0</td>\n",
       "      <td>17.8</td>\n",
       "      <td>92.4</td>\n",
       "      <td>0.0</td>\n",
       "      <td>0.1</td>\n",
       "      <td>0.2</td>\n",
       "      <td>95.0</td>\n",
       "    </tr>\n",
       "    <tr>\n",
       "      <th>26092</th>\n",
       "      <td>TX</td>\n",
       "      <td>Zapata Ranch CDP</td>\n",
       "      <td>95.1</td>\n",
       "      <td>49732.0</td>\n",
       "      <td>3.0</td>\n",
       "      <td>85.2</td>\n",
       "      <td>0.0</td>\n",
       "      <td>0.0</td>\n",
       "      <td>0.0</td>\n",
       "      <td>98.1</td>\n",
       "    </tr>\n",
       "    <tr>\n",
       "      <th>26093</th>\n",
       "      <td>TX</td>\n",
       "      <td>Zarate CDP</td>\n",
       "      <td>100.0</td>\n",
       "      <td>NaN</td>\n",
       "      <td>0.0</td>\n",
       "      <td>100.0</td>\n",
       "      <td>0.0</td>\n",
       "      <td>0.0</td>\n",
       "      <td>0.0</td>\n",
       "      <td>100.0</td>\n",
       "    </tr>\n",
       "    <tr>\n",
       "      <th>26094</th>\n",
       "      <td>TX</td>\n",
       "      <td>Zavalla city</td>\n",
       "      <td>72.2</td>\n",
       "      <td>28500.0</td>\n",
       "      <td>35.2</td>\n",
       "      <td>97.1</td>\n",
       "      <td>0.7</td>\n",
       "      <td>0.7</td>\n",
       "      <td>0.0</td>\n",
       "      <td>1.4</td>\n",
       "    </tr>\n",
       "    <tr>\n",
       "      <th>26095</th>\n",
       "      <td>TX</td>\n",
       "      <td>Zuehl CDP</td>\n",
       "      <td>74.0</td>\n",
       "      <td>34152.0</td>\n",
       "      <td>3.6</td>\n",
       "      <td>95.2</td>\n",
       "      <td>0.0</td>\n",
       "      <td>0.8</td>\n",
       "      <td>1.3</td>\n",
       "      <td>12.2</td>\n",
       "    </tr>\n",
       "  </tbody>\n",
       "</table>\n",
       "<p>5797 rows × 10 columns</p>\n",
       "</div>"
      ],
      "text/plain": [
       "      Geographic Area                 City  percent_completed_hs  \\\n",
       "930                AZ           Aguila CDP                  26.1   \n",
       "931                AZ              Ajo CDP                  80.0   \n",
       "932                AZ          Ak Chin CDP                 100.0   \n",
       "933                AZ  Ak-Chin Village CDP                  59.8   \n",
       "934                AZ       Alamo Lake CDP                 100.0   \n",
       "...               ...                  ...                   ...   \n",
       "26091              TX           Zapata CDP                  57.7   \n",
       "26092              TX     Zapata Ranch CDP                  95.1   \n",
       "26093              TX           Zarate CDP                 100.0   \n",
       "26094              TX         Zavalla city                  72.2   \n",
       "26095              TX            Zuehl CDP                  74.0   \n",
       "\n",
       "       Median Income  poverty_rate  share_white  share_black  \\\n",
       "930          26842.0          57.4         64.7          1.0   \n",
       "931          32964.0          33.6         75.1          0.9   \n",
       "932              NaN          12.1          0.0          0.0   \n",
       "933          25197.0          54.5          2.7          0.6   \n",
       "934              NaN           0.0        100.0          0.0   \n",
       "...              ...           ...          ...          ...   \n",
       "26091        37088.0          17.8         92.4          0.0   \n",
       "26092        49732.0           3.0         85.2          0.0   \n",
       "26093            NaN           0.0        100.0          0.0   \n",
       "26094        28500.0          35.2         97.1          0.7   \n",
       "26095        34152.0           3.6         95.2          0.0   \n",
       "\n",
       "       share_native_american  share_asian  share_hispanic  \n",
       "930                      3.6          0.4            69.4  \n",
       "931                      9.9          1.1            38.3  \n",
       "932                    100.0          0.0             3.3  \n",
       "933                     75.4          0.0            27.5  \n",
       "934                      0.0          0.0             0.0  \n",
       "...                      ...          ...             ...  \n",
       "26091                    0.1          0.2            95.0  \n",
       "26092                    0.0          0.0            98.1  \n",
       "26093                    0.0          0.0           100.0  \n",
       "26094                    0.7          0.0             1.4  \n",
       "26095                    0.8          1.3            12.2  \n",
       "\n",
       "[5797 rows x 10 columns]"
      ]
     },
     "execution_count": 365,
     "metadata": {},
     "output_type": "execute_result"
    }
   ],
   "source": [
    "datos_sDemog= pd.merge(pd.merge(pd.merge(educacion,ingreso, on=['City', 'Geographic Area']), pobreza, on = ['City', 'Geographic Area']), raza, on =['City', 'Geographic Area'])\n",
    "datos_sDemog=datos_sDemog[datos_sDemog['Geographic Area'].isin(['CA', 'TX', 'FL', 'AZ', 'OH'])]\n",
    "datos_sDemog['percent_completed_hs']=pd.to_numeric(datos_sDemog['percent_completed_hs'], errors='coerce')\n",
    "datos_sDemog['Median Income']=pd.to_numeric(datos_sDemog['Median Income'], errors='coerce')\n",
    "datos_sDemog['poverty_rate']=pd.to_numeric(datos_sDemog['poverty_rate'], errors='coerce')\n",
    "datos_sDemog['share_white']=pd.to_numeric(datos_sDemog['share_white'], errors='coerce')\n",
    "datos_sDemog['share_black']=pd.to_numeric(datos_sDemog['share_black'], errors='coerce')\n",
    "datos_sDemog['share_native_american']=pd.to_numeric(datos_sDemog['share_native_american'], errors='coerce')\n",
    "datos_sDemog['share_hispanic']=pd.to_numeric(datos_sDemog['share_hispanic'], errors='coerce')\n",
    "datos_sDemog['share_asian']=pd.to_numeric(datos_sDemog['share_asian'], errors='coerce')\n",
    "datos_sDemog"
   ]
  },
  {
   "cell_type": "code",
   "execution_count": 366,
   "id": "editorial-partner",
   "metadata": {},
   "outputs": [
    {
     "name": "stderr",
     "output_type": "stream",
     "text": [
      "<ipython-input-366-443990d31770>:13: UserWarning:\n",
      "\n",
      "Matplotlib is currently using module://ipykernel.pylab.backend_inline, which is a non-GUI backend, so cannot show the figure.\n",
      "\n"
     ]
    },
    {
     "data": {
      "image/png": "[encoded data removed]",
      "text/plain": [
       "<Figure size 1080x360 with 6 Axes>"
      ]
     },
     "metadata": {
      "needs_background": "light"
     },
     "output_type": "display_data"
    }
   ],
   "source": [
    "fig, axes = plt.subplots(2, 3, figsize=(15, 5), sharey=True)\n",
    "fig.suptitle('Histograma distribucion de grado de pobreza por estados')\n",
    "x_CA=datos_sDemog[datos_sDemog['Geographic Area']=='CA']\n",
    "x_TX=datos_sDemog[datos_sDemog['Geographic Area']=='TX']\n",
    "x_FL=datos_sDemog[datos_sDemog['Geographic Area']=='FL']\n",
    "x_AZ=datos_sDemog[datos_sDemog['Geographic Area']=='AZ']\n",
    "x_OH=datos_sDemog[datos_sDemog['Geographic Area']=='OH']\n",
    "sns.histplot(ax=axes[0, 0], x='poverty_rate',data=x_CA, kde=True).set_title('California')\n",
    "sns.histplot(ax=axes[0, 1], x='poverty_rate',data=x_TX, kde=True).set_title('Texas')\n",
    "sns.histplot(ax=axes[0, 2], x='poverty_rate',data=x_FL, kde=True).set_title('Florida')\n",
    "sns.histplot(ax=axes[1, 0], x='poverty_rate',data=x_AZ, kde=True).set_title('Arizona')\n",
    "sns.histplot(ax=axes[1, 1], x='poverty_rate',data=x_OH, kde=True).set_title('Ohio')\n",
    "fig.show()"
   ]
  },
  {
   "cell_type": "code",
   "execution_count": 367,
   "id": "dutch-adolescent",
   "metadata": {},
   "outputs": [
    {
     "name": "stderr",
     "output_type": "stream",
     "text": [
      "<ipython-input-367-3966717d9b1a>:8: UserWarning:\n",
      "\n",
      "Matplotlib is currently using module://ipykernel.pylab.backend_inline, which is a non-GUI backend, so cannot show the figure.\n",
      "\n"
     ]
    },
    {
     "data": {
      "image/png": "[encoded data removed]",
      "text/plain": [
       "<Figure size 1080x360 with 6 Axes>"
      ]
     },
     "metadata": {
      "needs_background": "light"
     },
     "output_type": "display_data"
    }
   ],
   "source": [
    "fig, axes = plt.subplots(2, 3, figsize=(15, 5), sharey=True)\n",
    "fig.suptitle('Histograma distribucion de % educación completada por estados')\n",
    "sns.histplot(ax=axes[0, 0], x='percent_completed_hs',data=x_CA, kde=True).set_title(\"California\")\n",
    "sns.histplot(ax=axes[0, 1], x='percent_completed_hs',data=x_TX, kde=True).set_title(\"Texas\")\n",
    "sns.histplot(ax=axes[0, 2], x='percent_completed_hs',data=x_FL, kde=True).set_title(\"Florida\")\n",
    "sns.histplot(ax=axes[1, 0], x='percent_completed_hs',data=x_AZ, kde=True).set_title(\"Arizona\")\n",
    "sns.histplot(ax=axes[1, 1], x='percent_completed_hs',data=x_OH, kde=True).set_title(\"Ohio\")\n",
    "fig.show()"
   ]
  },
  {
   "cell_type": "code",
   "execution_count": 368,
   "id": "assumed-scratch",
   "metadata": {},
   "outputs": [
    {
     "name": "stderr",
     "output_type": "stream",
     "text": [
      "<ipython-input-368-064ca37d60e0>:8: UserWarning:\n",
      "\n",
      "Matplotlib is currently using module://ipykernel.pylab.backend_inline, which is a non-GUI backend, so cannot show the figure.\n",
      "\n"
     ]
    },
    {
     "data": {
      "image/png": "[encoded data removed]",
      "text/plain": [
       "<Figure size 1080x360 with 6 Axes>"
      ]
     },
     "metadata": {
      "needs_background": "light"
     },
     "output_type": "display_data"
    }
   ],
   "source": [
    "fig, axes = plt.subplots(2, 3, figsize=(15, 5), sharey=True)\n",
    "fig.suptitle('Histograma distribucion de ingreso medio por estados')\n",
    "sns.histplot(ax=axes[0, 0], x='Median Income',data=x_CA, kde=True).set_title('California')\n",
    "sns.histplot(ax=axes[0, 1], x='Median Income',data=x_TX, kde=True).set_title('Texas')\n",
    "sns.histplot(ax=axes[0, 2], x='Median Income',data=x_FL, kde=True).set_title('Florida')\n",
    "sns.histplot(ax=axes[1, 0], x='Median Income',data=x_AZ, kde=True).set_title('Arizona')\n",
    "sns.histplot(ax=axes[1, 1], x='Median Income',data=x_OH, kde=True).set_title('Ohio')\n",
    "fig.show()"
   ]
  },
  {
   "cell_type": "markdown",
   "id": "distant-dominant",
   "metadata": {},
   "source": [
    "### Distribución de razas por estados"
   ]
  },
  {
   "cell_type": "code",
   "execution_count": 369,
   "id": "agricultural-nancy",
   "metadata": {},
   "outputs": [
    {
     "data": {
      "image/png": "[encoded data removed]",
      "text/plain": [
       "<Figure size 864x576 with 1 Axes>"
      ]
     },
     "metadata": {
      "needs_background": "light"
     },
     "output_type": "display_data"
    }
   ],
   "source": [
    "x_CAbox=x_CA[['share_white', 'share_black', 'share_native_american', 'share_asian', 'share_hispanic']]\n",
    "\n",
    "plt.figure(figsize=(12,8))\n",
    "sns.boxplot(data=x_CAbox, orient=\"v\", palette=\"Set2\")\n",
    "plt.xlabel(\"Raza\")\n",
    "plt.ylabel(\"Porcentaje\")\n",
    "plt.title('Distribucion de razas en el estado de California', size=24)\n",
    "plt.xticks(rotation=40)\n",
    "plt.show()"
   ]
  },
  {
   "cell_type": "code",
   "execution_count": 370,
   "id": "exotic-spine",
   "metadata": {},
   "outputs": [
    {
     "data": {
      "image/png": "[encoded data removed]",
      "text/plain": [
       "<Figure size 864x576 with 1 Axes>"
      ]
     },
     "metadata": {
      "needs_background": "light"
     },
     "output_type": "display_data"
    }
   ],
   "source": [
    "x_TXbox=x_TX[['share_white', 'share_black', 'share_native_american', 'share_asian', 'share_hispanic']]\n",
    "\n",
    "plt.figure(figsize=(12,8))\n",
    "sns.boxplot(data=x_TXbox, orient=\"v\", palette=\"Set2\")\n",
    "plt.xlabel(\"Raza\")\n",
    "plt.ylabel(\"Porcentaje\")\n",
    "plt.title('Distribucion de razas en el estado de Texas', size=24)\n",
    "plt.xticks(rotation=40)\n",
    "plt.show()"
   ]
  },
  {
   "cell_type": "code",
   "execution_count": 371,
   "id": "excess-warrant",
   "metadata": {},
   "outputs": [
    {
     "data": {
      "image/png": "[encoded data removed]",
      "text/plain": [
       "<Figure size 864x576 with 1 Axes>"
      ]
     },
     "metadata": {
      "needs_background": "light"
     },
     "output_type": "display_data"
    }
   ],
   "source": [
    "x_FLbox=x_FL[['share_white', 'share_black', 'share_native_american', 'share_asian', 'share_hispanic']]\n",
    "\n",
    "plt.figure(figsize=(12,8))\n",
    "sns.boxplot(data=x_FLbox, orient=\"v\", palette=\"Set2\")\n",
    "plt.xlabel(\"Raza\")\n",
    "plt.ylabel(\"Porcentaje\")\n",
    "plt.title('Distribucion de razas en el estado de Florida', size=24)\n",
    "plt.xticks(rotation=40)\n",
    "plt.show()"
   ]
  },
  {
   "cell_type": "code",
   "execution_count": 372,
   "id": "particular-creativity",
   "metadata": {},
   "outputs": [
    {
     "data": {
      "image/png": "[encoded data removed]",
      "text/plain": [
       "<Figure size 864x576 with 1 Axes>"
      ]
     },
     "metadata": {
      "needs_background": "light"
     },
     "output_type": "display_data"
    }
   ],
   "source": [
    "x_AZbox=x_AZ[['share_white', 'share_black', 'share_native_american', 'share_asian', 'share_hispanic']]\n",
    "\n",
    "plt.figure(figsize=(12,8))\n",
    "sns.boxplot(data=x_AZbox, orient=\"v\", palette=\"Set2\")\n",
    "plt.xlabel(\"Raza\")\n",
    "plt.ylabel(\"Porcentaje\")\n",
    "plt.title('Distribucion de razas en el estado de Arizona', size=24)\n",
    "plt.xticks(rotation=40)\n",
    "plt.show()"
   ]
  },
  {
   "cell_type": "code",
   "execution_count": 373,
   "id": "average-naples",
   "metadata": {},
   "outputs": [
    {
     "data": {
      "image/png": "[encoded data removed]",
      "text/plain": [
       "<Figure size 864x576 with 1 Axes>"
      ]
     },
     "metadata": {
      "needs_background": "light"
     },
     "output_type": "display_data"
    }
   ],
   "source": [
    "x_OHbox=x_OH[['share_white', 'share_black', 'share_native_american', 'share_asian', 'share_hispanic']]\n",
    "\n",
    "plt.figure(figsize=(12,8))\n",
    "sns.boxplot(data=x_OHbox, orient=\"v\", palette=\"Set2\")\n",
    "plt.xlabel(\"Raza\")\n",
    "plt.ylabel(\"Porcentaje\")\n",
    "plt.title('Distribucion de razas en el estado de Ohio', size=24)\n",
    "plt.xticks(rotation=40)\n",
    "plt.show()"
   ]
  },
  {
   "cell_type": "markdown",
   "id": "hairy-notification",
   "metadata": {},
   "source": [
    "### Modelo"
   ]
  },
  {
   "cell_type": "code",
   "execution_count": 374,
   "id": "aging-anaheim",
   "metadata": {},
   "outputs": [],
   "source": [
    "AsesPolicia.drop(columns=['city', 'day', 'name', 'date'], inplace=True)"
   ]
  },
  {
   "cell_type": "code",
   "execution_count": 375,
   "id": "present-consumer",
   "metadata": {},
   "outputs": [
    {
     "data": {
      "text/html": [
       "<div>\n",
       "<style scoped>\n",
       "    .dataframe tbody tr th:only-of-type {\n",
       "        vertical-align: middle;\n",
       "    }\n",
       "\n",
       "    .dataframe tbody tr th {\n",
       "        vertical-align: top;\n",
       "    }\n",
       "\n",
       "    .dataframe thead th {\n",
       "        text-align: right;\n",
       "    }\n",
       "</style>\n",
       "<table border=\"1\" class=\"dataframe\">\n",
       "  <thead>\n",
       "    <tr style=\"text-align: right;\">\n",
       "      <th></th>\n",
       "      <th>id</th>\n",
       "      <th>manner_of_death</th>\n",
       "      <th>armed</th>\n",
       "      <th>age</th>\n",
       "      <th>gender</th>\n",
       "      <th>race</th>\n",
       "      <th>state</th>\n",
       "      <th>signs_of_mental_illness</th>\n",
       "      <th>threat_level</th>\n",
       "      <th>flee</th>\n",
       "      <th>body_camera</th>\n",
       "    </tr>\n",
       "  </thead>\n",
       "  <tbody>\n",
       "    <tr>\n",
       "      <th>0</th>\n",
       "      <td>3</td>\n",
       "      <td>shot</td>\n",
       "      <td>gun</td>\n",
       "      <td>53.0</td>\n",
       "      <td>M</td>\n",
       "      <td>Asian</td>\n",
       "      <td>WA</td>\n",
       "      <td>True</td>\n",
       "      <td>attack</td>\n",
       "      <td>Not fleeing</td>\n",
       "      <td>False</td>\n",
       "    </tr>\n",
       "    <tr>\n",
       "      <th>1</th>\n",
       "      <td>4</td>\n",
       "      <td>shot</td>\n",
       "      <td>gun</td>\n",
       "      <td>47.0</td>\n",
       "      <td>M</td>\n",
       "      <td>White</td>\n",
       "      <td>OR</td>\n",
       "      <td>False</td>\n",
       "      <td>attack</td>\n",
       "      <td>Not fleeing</td>\n",
       "      <td>False</td>\n",
       "    </tr>\n",
       "    <tr>\n",
       "      <th>2</th>\n",
       "      <td>5</td>\n",
       "      <td>shot and Tasered</td>\n",
       "      <td>unarmed</td>\n",
       "      <td>23.0</td>\n",
       "      <td>M</td>\n",
       "      <td>Hispanic</td>\n",
       "      <td>KS</td>\n",
       "      <td>False</td>\n",
       "      <td>other</td>\n",
       "      <td>Not fleeing</td>\n",
       "      <td>False</td>\n",
       "    </tr>\n",
       "    <tr>\n",
       "      <th>3</th>\n",
       "      <td>8</td>\n",
       "      <td>shot</td>\n",
       "      <td>toy weapon</td>\n",
       "      <td>32.0</td>\n",
       "      <td>M</td>\n",
       "      <td>White</td>\n",
       "      <td>CA</td>\n",
       "      <td>True</td>\n",
       "      <td>attack</td>\n",
       "      <td>Not fleeing</td>\n",
       "      <td>False</td>\n",
       "    </tr>\n",
       "    <tr>\n",
       "      <th>4</th>\n",
       "      <td>9</td>\n",
       "      <td>shot</td>\n",
       "      <td>nail gun</td>\n",
       "      <td>39.0</td>\n",
       "      <td>M</td>\n",
       "      <td>Hispanic</td>\n",
       "      <td>CO</td>\n",
       "      <td>False</td>\n",
       "      <td>attack</td>\n",
       "      <td>Not fleeing</td>\n",
       "      <td>False</td>\n",
       "    </tr>\n",
       "    <tr>\n",
       "      <th>...</th>\n",
       "      <td>...</td>\n",
       "      <td>...</td>\n",
       "      <td>...</td>\n",
       "      <td>...</td>\n",
       "      <td>...</td>\n",
       "      <td>...</td>\n",
       "      <td>...</td>\n",
       "      <td>...</td>\n",
       "      <td>...</td>\n",
       "      <td>...</td>\n",
       "      <td>...</td>\n",
       "    </tr>\n",
       "    <tr>\n",
       "      <th>2530</th>\n",
       "      <td>2822</td>\n",
       "      <td>shot</td>\n",
       "      <td>gun</td>\n",
       "      <td>31.0</td>\n",
       "      <td>M</td>\n",
       "      <td>NaN</td>\n",
       "      <td>MO</td>\n",
       "      <td>False</td>\n",
       "      <td>attack</td>\n",
       "      <td>Not fleeing</td>\n",
       "      <td>False</td>\n",
       "    </tr>\n",
       "    <tr>\n",
       "      <th>2531</th>\n",
       "      <td>2813</td>\n",
       "      <td>shot</td>\n",
       "      <td>vehicle</td>\n",
       "      <td>NaN</td>\n",
       "      <td>M</td>\n",
       "      <td>NaN</td>\n",
       "      <td>NM</td>\n",
       "      <td>False</td>\n",
       "      <td>attack</td>\n",
       "      <td>Car</td>\n",
       "      <td>False</td>\n",
       "    </tr>\n",
       "    <tr>\n",
       "      <th>2532</th>\n",
       "      <td>2818</td>\n",
       "      <td>shot</td>\n",
       "      <td>gun</td>\n",
       "      <td>48.0</td>\n",
       "      <td>M</td>\n",
       "      <td>NaN</td>\n",
       "      <td>ID</td>\n",
       "      <td>False</td>\n",
       "      <td>attack</td>\n",
       "      <td>Car</td>\n",
       "      <td>False</td>\n",
       "    </tr>\n",
       "    <tr>\n",
       "      <th>2533</th>\n",
       "      <td>2817</td>\n",
       "      <td>shot</td>\n",
       "      <td>vehicle</td>\n",
       "      <td>28.0</td>\n",
       "      <td>M</td>\n",
       "      <td>Black</td>\n",
       "      <td>WI</td>\n",
       "      <td>False</td>\n",
       "      <td>attack</td>\n",
       "      <td>Car</td>\n",
       "      <td>True</td>\n",
       "    </tr>\n",
       "    <tr>\n",
       "      <th>2534</th>\n",
       "      <td>2815</td>\n",
       "      <td>shot</td>\n",
       "      <td>knife</td>\n",
       "      <td>32.0</td>\n",
       "      <td>M</td>\n",
       "      <td>Black</td>\n",
       "      <td>NY</td>\n",
       "      <td>True</td>\n",
       "      <td>attack</td>\n",
       "      <td>Not fleeing</td>\n",
       "      <td>False</td>\n",
       "    </tr>\n",
       "  </tbody>\n",
       "</table>\n",
       "<p>2535 rows × 11 columns</p>\n",
       "</div>"
      ],
      "text/plain": [
       "        id   manner_of_death       armed   age gender      race state  \\\n",
       "0        3              shot         gun  53.0      M     Asian    WA   \n",
       "1        4              shot         gun  47.0      M     White    OR   \n",
       "2        5  shot and Tasered     unarmed  23.0      M  Hispanic    KS   \n",
       "3        8              shot  toy weapon  32.0      M     White    CA   \n",
       "4        9              shot    nail gun  39.0      M  Hispanic    CO   \n",
       "...    ...               ...         ...   ...    ...       ...   ...   \n",
       "2530  2822              shot         gun  31.0      M       NaN    MO   \n",
       "2531  2813              shot     vehicle   NaN      M       NaN    NM   \n",
       "2532  2818              shot         gun  48.0      M       NaN    ID   \n",
       "2533  2817              shot     vehicle  28.0      M     Black    WI   \n",
       "2534  2815              shot       knife  32.0      M     Black    NY   \n",
       "\n",
       "      signs_of_mental_illness threat_level         flee  body_camera  \n",
       "0                        True       attack  Not fleeing        False  \n",
       "1                       False       attack  Not fleeing        False  \n",
       "2                       False        other  Not fleeing        False  \n",
       "3                        True       attack  Not fleeing        False  \n",
       "4                       False       attack  Not fleeing        False  \n",
       "...                       ...          ...          ...          ...  \n",
       "2530                    False       attack  Not fleeing        False  \n",
       "2531                    False       attack          Car        False  \n",
       "2532                    False       attack          Car        False  \n",
       "2533                    False       attack          Car         True  \n",
       "2534                     True       attack  Not fleeing        False  \n",
       "\n",
       "[2535 rows x 11 columns]"
      ]
     },
     "execution_count": 375,
     "metadata": {},
     "output_type": "execute_result"
    }
   ],
   "source": [
    "AsesPolicia"
   ]
  },
  {
   "cell_type": "markdown",
   "id": "posted-fairy",
   "metadata": {},
   "source": [
    "### Generar dummies para convertir a números las variables categóricas"
   ]
  },
  {
   "cell_type": "code",
   "execution_count": 376,
   "id": "architectural-underwear",
   "metadata": {},
   "outputs": [
    {
     "data": {
      "text/html": [
       "<div>\n",
       "<style scoped>\n",
       "    .dataframe tbody tr th:only-of-type {\n",
       "        vertical-align: middle;\n",
       "    }\n",
       "\n",
       "    .dataframe tbody tr th {\n",
       "        vertical-align: top;\n",
       "    }\n",
       "\n",
       "    .dataframe thead th {\n",
       "        text-align: right;\n",
       "    }\n",
       "</style>\n",
       "<table border=\"1\" class=\"dataframe\">\n",
       "  <thead>\n",
       "    <tr style=\"text-align: right;\">\n",
       "      <th></th>\n",
       "      <th>id</th>\n",
       "      <th>age</th>\n",
       "      <th>race</th>\n",
       "      <th>manner_of_death_shot</th>\n",
       "      <th>manner_of_death_shot and Tasered</th>\n",
       "      <th>armed_Taser</th>\n",
       "      <th>armed_air conditioner</th>\n",
       "      <th>armed_ax</th>\n",
       "      <th>armed_baseball bat</th>\n",
       "      <th>armed_baseball bat and bottle</th>\n",
       "      <th>...</th>\n",
       "      <th>signs_of_mental_illness_True</th>\n",
       "      <th>threat_level_attack</th>\n",
       "      <th>threat_level_other</th>\n",
       "      <th>threat_level_undetermined</th>\n",
       "      <th>flee_Car</th>\n",
       "      <th>flee_Foot</th>\n",
       "      <th>flee_Not fleeing</th>\n",
       "      <th>flee_Other</th>\n",
       "      <th>body_camera_False</th>\n",
       "      <th>body_camera_True</th>\n",
       "    </tr>\n",
       "  </thead>\n",
       "  <tbody>\n",
       "    <tr>\n",
       "      <th>0</th>\n",
       "      <td>3</td>\n",
       "      <td>53.0</td>\n",
       "      <td>Asian</td>\n",
       "      <td>1</td>\n",
       "      <td>0</td>\n",
       "      <td>0</td>\n",
       "      <td>0</td>\n",
       "      <td>0</td>\n",
       "      <td>0</td>\n",
       "      <td>0</td>\n",
       "      <td>...</td>\n",
       "      <td>1</td>\n",
       "      <td>1</td>\n",
       "      <td>0</td>\n",
       "      <td>0</td>\n",
       "      <td>0</td>\n",
       "      <td>0</td>\n",
       "      <td>1</td>\n",
       "      <td>0</td>\n",
       "      <td>1</td>\n",
       "      <td>0</td>\n",
       "    </tr>\n",
       "    <tr>\n",
       "      <th>1</th>\n",
       "      <td>4</td>\n",
       "      <td>47.0</td>\n",
       "      <td>White</td>\n",
       "      <td>1</td>\n",
       "      <td>0</td>\n",
       "      <td>0</td>\n",
       "      <td>0</td>\n",
       "      <td>0</td>\n",
       "      <td>0</td>\n",
       "      <td>0</td>\n",
       "      <td>...</td>\n",
       "      <td>0</td>\n",
       "      <td>1</td>\n",
       "      <td>0</td>\n",
       "      <td>0</td>\n",
       "      <td>0</td>\n",
       "      <td>0</td>\n",
       "      <td>1</td>\n",
       "      <td>0</td>\n",
       "      <td>1</td>\n",
       "      <td>0</td>\n",
       "    </tr>\n",
       "    <tr>\n",
       "      <th>2</th>\n",
       "      <td>5</td>\n",
       "      <td>23.0</td>\n",
       "      <td>Hispanic</td>\n",
       "      <td>0</td>\n",
       "      <td>1</td>\n",
       "      <td>0</td>\n",
       "      <td>0</td>\n",
       "      <td>0</td>\n",
       "      <td>0</td>\n",
       "      <td>0</td>\n",
       "      <td>...</td>\n",
       "      <td>0</td>\n",
       "      <td>0</td>\n",
       "      <td>1</td>\n",
       "      <td>0</td>\n",
       "      <td>0</td>\n",
       "      <td>0</td>\n",
       "      <td>1</td>\n",
       "      <td>0</td>\n",
       "      <td>1</td>\n",
       "      <td>0</td>\n",
       "    </tr>\n",
       "    <tr>\n",
       "      <th>3</th>\n",
       "      <td>8</td>\n",
       "      <td>32.0</td>\n",
       "      <td>White</td>\n",
       "      <td>1</td>\n",
       "      <td>0</td>\n",
       "      <td>0</td>\n",
       "      <td>0</td>\n",
       "      <td>0</td>\n",
       "      <td>0</td>\n",
       "      <td>0</td>\n",
       "      <td>...</td>\n",
       "      <td>1</td>\n",
       "      <td>1</td>\n",
       "      <td>0</td>\n",
       "      <td>0</td>\n",
       "      <td>0</td>\n",
       "      <td>0</td>\n",
       "      <td>1</td>\n",
       "      <td>0</td>\n",
       "      <td>1</td>\n",
       "      <td>0</td>\n",
       "    </tr>\n",
       "    <tr>\n",
       "      <th>4</th>\n",
       "      <td>9</td>\n",
       "      <td>39.0</td>\n",
       "      <td>Hispanic</td>\n",
       "      <td>1</td>\n",
       "      <td>0</td>\n",
       "      <td>0</td>\n",
       "      <td>0</td>\n",
       "      <td>0</td>\n",
       "      <td>0</td>\n",
       "      <td>0</td>\n",
       "      <td>...</td>\n",
       "      <td>0</td>\n",
       "      <td>1</td>\n",
       "      <td>0</td>\n",
       "      <td>0</td>\n",
       "      <td>0</td>\n",
       "      <td>0</td>\n",
       "      <td>1</td>\n",
       "      <td>0</td>\n",
       "      <td>1</td>\n",
       "      <td>0</td>\n",
       "    </tr>\n",
       "    <tr>\n",
       "      <th>...</th>\n",
       "      <td>...</td>\n",
       "      <td>...</td>\n",
       "      <td>...</td>\n",
       "      <td>...</td>\n",
       "      <td>...</td>\n",
       "      <td>...</td>\n",
       "      <td>...</td>\n",
       "      <td>...</td>\n",
       "      <td>...</td>\n",
       "      <td>...</td>\n",
       "      <td>...</td>\n",
       "      <td>...</td>\n",
       "      <td>...</td>\n",
       "      <td>...</td>\n",
       "      <td>...</td>\n",
       "      <td>...</td>\n",
       "      <td>...</td>\n",
       "      <td>...</td>\n",
       "      <td>...</td>\n",
       "      <td>...</td>\n",
       "      <td>...</td>\n",
       "    </tr>\n",
       "    <tr>\n",
       "      <th>2530</th>\n",
       "      <td>2822</td>\n",
       "      <td>31.0</td>\n",
       "      <td>NaN</td>\n",
       "      <td>1</td>\n",
       "      <td>0</td>\n",
       "      <td>0</td>\n",
       "      <td>0</td>\n",
       "      <td>0</td>\n",
       "      <td>0</td>\n",
       "      <td>0</td>\n",
       "      <td>...</td>\n",
       "      <td>0</td>\n",
       "      <td>1</td>\n",
       "      <td>0</td>\n",
       "      <td>0</td>\n",
       "      <td>0</td>\n",
       "      <td>0</td>\n",
       "      <td>1</td>\n",
       "      <td>0</td>\n",
       "      <td>1</td>\n",
       "      <td>0</td>\n",
       "    </tr>\n",
       "    <tr>\n",
       "      <th>2531</th>\n",
       "      <td>2813</td>\n",
       "      <td>NaN</td>\n",
       "      <td>NaN</td>\n",
       "      <td>1</td>\n",
       "      <td>0</td>\n",
       "      <td>0</td>\n",
       "      <td>0</td>\n",
       "      <td>0</td>\n",
       "      <td>0</td>\n",
       "      <td>0</td>\n",
       "      <td>...</td>\n",
       "      <td>0</td>\n",
       "      <td>1</td>\n",
       "      <td>0</td>\n",
       "      <td>0</td>\n",
       "      <td>1</td>\n",
       "      <td>0</td>\n",
       "      <td>0</td>\n",
       "      <td>0</td>\n",
       "      <td>1</td>\n",
       "      <td>0</td>\n",
       "    </tr>\n",
       "    <tr>\n",
       "      <th>2532</th>\n",
       "      <td>2818</td>\n",
       "      <td>48.0</td>\n",
       "      <td>NaN</td>\n",
       "      <td>1</td>\n",
       "      <td>0</td>\n",
       "      <td>0</td>\n",
       "      <td>0</td>\n",
       "      <td>0</td>\n",
       "      <td>0</td>\n",
       "      <td>0</td>\n",
       "      <td>...</td>\n",
       "      <td>0</td>\n",
       "      <td>1</td>\n",
       "      <td>0</td>\n",
       "      <td>0</td>\n",
       "      <td>1</td>\n",
       "      <td>0</td>\n",
       "      <td>0</td>\n",
       "      <td>0</td>\n",
       "      <td>1</td>\n",
       "      <td>0</td>\n",
       "    </tr>\n",
       "    <tr>\n",
       "      <th>2533</th>\n",
       "      <td>2817</td>\n",
       "      <td>28.0</td>\n",
       "      <td>Black</td>\n",
       "      <td>1</td>\n",
       "      <td>0</td>\n",
       "      <td>0</td>\n",
       "      <td>0</td>\n",
       "      <td>0</td>\n",
       "      <td>0</td>\n",
       "      <td>0</td>\n",
       "      <td>...</td>\n",
       "      <td>0</td>\n",
       "      <td>1</td>\n",
       "      <td>0</td>\n",
       "      <td>0</td>\n",
       "      <td>1</td>\n",
       "      <td>0</td>\n",
       "      <td>0</td>\n",
       "      <td>0</td>\n",
       "      <td>0</td>\n",
       "      <td>1</td>\n",
       "    </tr>\n",
       "    <tr>\n",
       "      <th>2534</th>\n",
       "      <td>2815</td>\n",
       "      <td>32.0</td>\n",
       "      <td>Black</td>\n",
       "      <td>1</td>\n",
       "      <td>0</td>\n",
       "      <td>0</td>\n",
       "      <td>0</td>\n",
       "      <td>0</td>\n",
       "      <td>0</td>\n",
       "      <td>0</td>\n",
       "      <td>...</td>\n",
       "      <td>1</td>\n",
       "      <td>1</td>\n",
       "      <td>0</td>\n",
       "      <td>0</td>\n",
       "      <td>0</td>\n",
       "      <td>0</td>\n",
       "      <td>1</td>\n",
       "      <td>0</td>\n",
       "      <td>1</td>\n",
       "      <td>0</td>\n",
       "    </tr>\n",
       "  </tbody>\n",
       "</table>\n",
       "<p>2535 rows × 138 columns</p>\n",
       "</div>"
      ],
      "text/plain": [
       "        id   age      race  manner_of_death_shot  \\\n",
       "0        3  53.0     Asian                     1   \n",
       "1        4  47.0     White                     1   \n",
       "2        5  23.0  Hispanic                     0   \n",
       "3        8  32.0     White                     1   \n",
       "4        9  39.0  Hispanic                     1   \n",
       "...    ...   ...       ...                   ...   \n",
       "2530  2822  31.0       NaN                     1   \n",
       "2531  2813   NaN       NaN                     1   \n",
       "2532  2818  48.0       NaN                     1   \n",
       "2533  2817  28.0     Black                     1   \n",
       "2534  2815  32.0     Black                     1   \n",
       "\n",
       "      manner_of_death_shot and Tasered  armed_Taser  armed_air conditioner  \\\n",
       "0                                    0            0                      0   \n",
       "1                                    0            0                      0   \n",
       "2                                    1            0                      0   \n",
       "3                                    0            0                      0   \n",
       "4                                    0            0                      0   \n",
       "...                                ...          ...                    ...   \n",
       "2530                                 0            0                      0   \n",
       "2531                                 0            0                      0   \n",
       "2532                                 0            0                      0   \n",
       "2533                                 0            0                      0   \n",
       "2534                                 0            0                      0   \n",
       "\n",
       "      armed_ax  armed_baseball bat  armed_baseball bat and bottle  ...  \\\n",
       "0            0                   0                              0  ...   \n",
       "1            0                   0                              0  ...   \n",
       "2            0                   0                              0  ...   \n",
       "3            0                   0                              0  ...   \n",
       "4            0                   0                              0  ...   \n",
       "...        ...                 ...                            ...  ...   \n",
       "2530         0                   0                              0  ...   \n",
       "2531         0                   0                              0  ...   \n",
       "2532         0                   0                              0  ...   \n",
       "2533         0                   0                              0  ...   \n",
       "2534         0                   0                              0  ...   \n",
       "\n",
       "      signs_of_mental_illness_True  threat_level_attack  threat_level_other  \\\n",
       "0                                1                    1                   0   \n",
       "1                                0                    1                   0   \n",
       "2                                0                    0                   1   \n",
       "3                                1                    1                   0   \n",
       "4                                0                    1                   0   \n",
       "...                            ...                  ...                 ...   \n",
       "2530                             0                    1                   0   \n",
       "2531                             0                    1                   0   \n",
       "2532                             0                    1                   0   \n",
       "2533                             0                    1                   0   \n",
       "2534                             1                    1                   0   \n",
       "\n",
       "      threat_level_undetermined  flee_Car  flee_Foot  flee_Not fleeing  \\\n",
       "0                             0         0          0                 1   \n",
       "1                             0         0          0                 1   \n",
       "2                             0         0          0                 1   \n",
       "3                             0         0          0                 1   \n",
       "4                             0         0          0                 1   \n",
       "...                         ...       ...        ...               ...   \n",
       "2530                          0         0          0                 1   \n",
       "2531                          0         1          0                 0   \n",
       "2532                          0         1          0                 0   \n",
       "2533                          0         1          0                 0   \n",
       "2534                          0         0          0                 1   \n",
       "\n",
       "      flee_Other  body_camera_False  body_camera_True  \n",
       "0              0                  1                 0  \n",
       "1              0                  1                 0  \n",
       "2              0                  1                 0  \n",
       "3              0                  1                 0  \n",
       "4              0                  1                 0  \n",
       "...          ...                ...               ...  \n",
       "2530           0                  1                 0  \n",
       "2531           0                  1                 0  \n",
       "2532           0                  1                 0  \n",
       "2533           0                  0                 1  \n",
       "2534           0                  1                 0  \n",
       "\n",
       "[2535 rows x 138 columns]"
      ]
     },
     "execution_count": 376,
     "metadata": {},
     "output_type": "execute_result"
    }
   ],
   "source": [
    "\n",
    "\n",
    "AsesPolicia = pd.get_dummies(AsesPolicia, columns=[\"manner_of_death\", \"armed\", \"gender\", \"state\",\n",
    "                                                       \"signs_of_mental_illness\", \"threat_level\", \"flee\", \"body_camera\"])\n",
    "AsesPolicia"
   ]
  },
  {
   "cell_type": "markdown",
   "id": "educated-artwork",
   "metadata": {},
   "source": [
    "### Eliminar filas con datos faltantes"
   ]
  },
  {
   "cell_type": "code",
   "execution_count": 377,
   "id": "level-happiness",
   "metadata": {},
   "outputs": [],
   "source": [
    "AsesPolicia.dropna(inplace=True)\n"
   ]
  },
  {
   "cell_type": "markdown",
   "id": "threatened-climb",
   "metadata": {},
   "source": [
    "### Se evidencia que la variable a predeir esta bastante desbalanceada"
   ]
  },
  {
   "cell_type": "code",
   "execution_count": 378,
   "id": "quarterly-enough",
   "metadata": {},
   "outputs": [
    {
     "data": {
      "text/plain": [
       "White       1192\n",
       "Black        609\n",
       "Hispanic     413\n",
       "Otro          59\n",
       "Asian         38\n",
       "Name: race, dtype: int64"
      ]
     },
     "execution_count": 378,
     "metadata": {},
     "output_type": "execute_result"
    }
   ],
   "source": [
    "AsesPolicia['race'].value_counts()"
   ]
  },
  {
   "cell_type": "code",
   "execution_count": 379,
   "id": "seasonal-trinity",
   "metadata": {},
   "outputs": [
    {
     "data": {
      "text/html": [
       "<div>\n",
       "<style scoped>\n",
       "    .dataframe tbody tr th:only-of-type {\n",
       "        vertical-align: middle;\n",
       "    }\n",
       "\n",
       "    .dataframe tbody tr th {\n",
       "        vertical-align: top;\n",
       "    }\n",
       "\n",
       "    .dataframe thead th {\n",
       "        text-align: right;\n",
       "    }\n",
       "</style>\n",
       "<table border=\"1\" class=\"dataframe\">\n",
       "  <thead>\n",
       "    <tr style=\"text-align: right;\">\n",
       "      <th></th>\n",
       "      <th>id</th>\n",
       "      <th>age</th>\n",
       "      <th>race</th>\n",
       "      <th>manner_of_death_shot</th>\n",
       "      <th>manner_of_death_shot and Tasered</th>\n",
       "      <th>armed_Taser</th>\n",
       "      <th>armed_air conditioner</th>\n",
       "      <th>armed_ax</th>\n",
       "      <th>armed_baseball bat</th>\n",
       "      <th>armed_baseball bat and bottle</th>\n",
       "      <th>...</th>\n",
       "      <th>signs_of_mental_illness_True</th>\n",
       "      <th>threat_level_attack</th>\n",
       "      <th>threat_level_other</th>\n",
       "      <th>threat_level_undetermined</th>\n",
       "      <th>flee_Car</th>\n",
       "      <th>flee_Foot</th>\n",
       "      <th>flee_Not fleeing</th>\n",
       "      <th>flee_Other</th>\n",
       "      <th>body_camera_False</th>\n",
       "      <th>body_camera_True</th>\n",
       "    </tr>\n",
       "  </thead>\n",
       "  <tbody>\n",
       "    <tr>\n",
       "      <th>0</th>\n",
       "      <td>3</td>\n",
       "      <td>53.0</td>\n",
       "      <td>4</td>\n",
       "      <td>1</td>\n",
       "      <td>0</td>\n",
       "      <td>0</td>\n",
       "      <td>0</td>\n",
       "      <td>0</td>\n",
       "      <td>0</td>\n",
       "      <td>0</td>\n",
       "      <td>...</td>\n",
       "      <td>1</td>\n",
       "      <td>1</td>\n",
       "      <td>0</td>\n",
       "      <td>0</td>\n",
       "      <td>0</td>\n",
       "      <td>0</td>\n",
       "      <td>1</td>\n",
       "      <td>0</td>\n",
       "      <td>1</td>\n",
       "      <td>0</td>\n",
       "    </tr>\n",
       "    <tr>\n",
       "      <th>1</th>\n",
       "      <td>4</td>\n",
       "      <td>47.0</td>\n",
       "      <td>0</td>\n",
       "      <td>1</td>\n",
       "      <td>0</td>\n",
       "      <td>0</td>\n",
       "      <td>0</td>\n",
       "      <td>0</td>\n",
       "      <td>0</td>\n",
       "      <td>0</td>\n",
       "      <td>...</td>\n",
       "      <td>0</td>\n",
       "      <td>1</td>\n",
       "      <td>0</td>\n",
       "      <td>0</td>\n",
       "      <td>0</td>\n",
       "      <td>0</td>\n",
       "      <td>1</td>\n",
       "      <td>0</td>\n",
       "      <td>1</td>\n",
       "      <td>0</td>\n",
       "    </tr>\n",
       "    <tr>\n",
       "      <th>2</th>\n",
       "      <td>5</td>\n",
       "      <td>23.0</td>\n",
       "      <td>2</td>\n",
       "      <td>0</td>\n",
       "      <td>1</td>\n",
       "      <td>0</td>\n",
       "      <td>0</td>\n",
       "      <td>0</td>\n",
       "      <td>0</td>\n",
       "      <td>0</td>\n",
       "      <td>...</td>\n",
       "      <td>0</td>\n",
       "      <td>0</td>\n",
       "      <td>1</td>\n",
       "      <td>0</td>\n",
       "      <td>0</td>\n",
       "      <td>0</td>\n",
       "      <td>1</td>\n",
       "      <td>0</td>\n",
       "      <td>1</td>\n",
       "      <td>0</td>\n",
       "    </tr>\n",
       "    <tr>\n",
       "      <th>3</th>\n",
       "      <td>8</td>\n",
       "      <td>32.0</td>\n",
       "      <td>0</td>\n",
       "      <td>1</td>\n",
       "      <td>0</td>\n",
       "      <td>0</td>\n",
       "      <td>0</td>\n",
       "      <td>0</td>\n",
       "      <td>0</td>\n",
       "      <td>0</td>\n",
       "      <td>...</td>\n",
       "      <td>1</td>\n",
       "      <td>1</td>\n",
       "      <td>0</td>\n",
       "      <td>0</td>\n",
       "      <td>0</td>\n",
       "      <td>0</td>\n",
       "      <td>1</td>\n",
       "      <td>0</td>\n",
       "      <td>1</td>\n",
       "      <td>0</td>\n",
       "    </tr>\n",
       "    <tr>\n",
       "      <th>4</th>\n",
       "      <td>9</td>\n",
       "      <td>39.0</td>\n",
       "      <td>2</td>\n",
       "      <td>1</td>\n",
       "      <td>0</td>\n",
       "      <td>0</td>\n",
       "      <td>0</td>\n",
       "      <td>0</td>\n",
       "      <td>0</td>\n",
       "      <td>0</td>\n",
       "      <td>...</td>\n",
       "      <td>0</td>\n",
       "      <td>1</td>\n",
       "      <td>0</td>\n",
       "      <td>0</td>\n",
       "      <td>0</td>\n",
       "      <td>0</td>\n",
       "      <td>1</td>\n",
       "      <td>0</td>\n",
       "      <td>1</td>\n",
       "      <td>0</td>\n",
       "    </tr>\n",
       "    <tr>\n",
       "      <th>...</th>\n",
       "      <td>...</td>\n",
       "      <td>...</td>\n",
       "      <td>...</td>\n",
       "      <td>...</td>\n",
       "      <td>...</td>\n",
       "      <td>...</td>\n",
       "      <td>...</td>\n",
       "      <td>...</td>\n",
       "      <td>...</td>\n",
       "      <td>...</td>\n",
       "      <td>...</td>\n",
       "      <td>...</td>\n",
       "      <td>...</td>\n",
       "      <td>...</td>\n",
       "      <td>...</td>\n",
       "      <td>...</td>\n",
       "      <td>...</td>\n",
       "      <td>...</td>\n",
       "      <td>...</td>\n",
       "      <td>...</td>\n",
       "      <td>...</td>\n",
       "    </tr>\n",
       "    <tr>\n",
       "      <th>2519</th>\n",
       "      <td>2805</td>\n",
       "      <td>16.0</td>\n",
       "      <td>1</td>\n",
       "      <td>1</td>\n",
       "      <td>0</td>\n",
       "      <td>0</td>\n",
       "      <td>0</td>\n",
       "      <td>0</td>\n",
       "      <td>0</td>\n",
       "      <td>0</td>\n",
       "      <td>...</td>\n",
       "      <td>0</td>\n",
       "      <td>0</td>\n",
       "      <td>0</td>\n",
       "      <td>1</td>\n",
       "      <td>0</td>\n",
       "      <td>0</td>\n",
       "      <td>1</td>\n",
       "      <td>0</td>\n",
       "      <td>1</td>\n",
       "      <td>0</td>\n",
       "    </tr>\n",
       "    <tr>\n",
       "      <th>2523</th>\n",
       "      <td>2808</td>\n",
       "      <td>25.0</td>\n",
       "      <td>1</td>\n",
       "      <td>1</td>\n",
       "      <td>0</td>\n",
       "      <td>0</td>\n",
       "      <td>0</td>\n",
       "      <td>0</td>\n",
       "      <td>0</td>\n",
       "      <td>0</td>\n",
       "      <td>...</td>\n",
       "      <td>0</td>\n",
       "      <td>1</td>\n",
       "      <td>0</td>\n",
       "      <td>0</td>\n",
       "      <td>1</td>\n",
       "      <td>0</td>\n",
       "      <td>0</td>\n",
       "      <td>0</td>\n",
       "      <td>1</td>\n",
       "      <td>0</td>\n",
       "    </tr>\n",
       "    <tr>\n",
       "      <th>2525</th>\n",
       "      <td>2820</td>\n",
       "      <td>39.0</td>\n",
       "      <td>1</td>\n",
       "      <td>1</td>\n",
       "      <td>0</td>\n",
       "      <td>0</td>\n",
       "      <td>0</td>\n",
       "      <td>0</td>\n",
       "      <td>0</td>\n",
       "      <td>0</td>\n",
       "      <td>...</td>\n",
       "      <td>0</td>\n",
       "      <td>1</td>\n",
       "      <td>0</td>\n",
       "      <td>0</td>\n",
       "      <td>1</td>\n",
       "      <td>0</td>\n",
       "      <td>0</td>\n",
       "      <td>0</td>\n",
       "      <td>1</td>\n",
       "      <td>0</td>\n",
       "    </tr>\n",
       "    <tr>\n",
       "      <th>2533</th>\n",
       "      <td>2817</td>\n",
       "      <td>28.0</td>\n",
       "      <td>1</td>\n",
       "      <td>1</td>\n",
       "      <td>0</td>\n",
       "      <td>0</td>\n",
       "      <td>0</td>\n",
       "      <td>0</td>\n",
       "      <td>0</td>\n",
       "      <td>0</td>\n",
       "      <td>...</td>\n",
       "      <td>0</td>\n",
       "      <td>1</td>\n",
       "      <td>0</td>\n",
       "      <td>0</td>\n",
       "      <td>1</td>\n",
       "      <td>0</td>\n",
       "      <td>0</td>\n",
       "      <td>0</td>\n",
       "      <td>0</td>\n",
       "      <td>1</td>\n",
       "    </tr>\n",
       "    <tr>\n",
       "      <th>2534</th>\n",
       "      <td>2815</td>\n",
       "      <td>32.0</td>\n",
       "      <td>1</td>\n",
       "      <td>1</td>\n",
       "      <td>0</td>\n",
       "      <td>0</td>\n",
       "      <td>0</td>\n",
       "      <td>0</td>\n",
       "      <td>0</td>\n",
       "      <td>0</td>\n",
       "      <td>...</td>\n",
       "      <td>1</td>\n",
       "      <td>1</td>\n",
       "      <td>0</td>\n",
       "      <td>0</td>\n",
       "      <td>0</td>\n",
       "      <td>0</td>\n",
       "      <td>1</td>\n",
       "      <td>0</td>\n",
       "      <td>1</td>\n",
       "      <td>0</td>\n",
       "    </tr>\n",
       "  </tbody>\n",
       "</table>\n",
       "<p>2311 rows × 138 columns</p>\n",
       "</div>"
      ],
      "text/plain": [
       "        id   age  race  manner_of_death_shot  \\\n",
       "0        3  53.0     4                     1   \n",
       "1        4  47.0     0                     1   \n",
       "2        5  23.0     2                     0   \n",
       "3        8  32.0     0                     1   \n",
       "4        9  39.0     2                     1   \n",
       "...    ...   ...   ...                   ...   \n",
       "2519  2805  16.0     1                     1   \n",
       "2523  2808  25.0     1                     1   \n",
       "2525  2820  39.0     1                     1   \n",
       "2533  2817  28.0     1                     1   \n",
       "2534  2815  32.0     1                     1   \n",
       "\n",
       "      manner_of_death_shot and Tasered  armed_Taser  armed_air conditioner  \\\n",
       "0                                    0            0                      0   \n",
       "1                                    0            0                      0   \n",
       "2                                    1            0                      0   \n",
       "3                                    0            0                      0   \n",
       "4                                    0            0                      0   \n",
       "...                                ...          ...                    ...   \n",
       "2519                                 0            0                      0   \n",
       "2523                                 0            0                      0   \n",
       "2525                                 0            0                      0   \n",
       "2533                                 0            0                      0   \n",
       "2534                                 0            0                      0   \n",
       "\n",
       "      armed_ax  armed_baseball bat  armed_baseball bat and bottle  ...  \\\n",
       "0            0                   0                              0  ...   \n",
       "1            0                   0                              0  ...   \n",
       "2            0                   0                              0  ...   \n",
       "3            0                   0                              0  ...   \n",
       "4            0                   0                              0  ...   \n",
       "...        ...                 ...                            ...  ...   \n",
       "2519         0                   0                              0  ...   \n",
       "2523         0                   0                              0  ...   \n",
       "2525         0                   0                              0  ...   \n",
       "2533         0                   0                              0  ...   \n",
       "2534         0                   0                              0  ...   \n",
       "\n",
       "      signs_of_mental_illness_True  threat_level_attack  threat_level_other  \\\n",
       "0                                1                    1                   0   \n",
       "1                                0                    1                   0   \n",
       "2                                0                    0                   1   \n",
       "3                                1                    1                   0   \n",
       "4                                0                    1                   0   \n",
       "...                            ...                  ...                 ...   \n",
       "2519                             0                    0                   0   \n",
       "2523                             0                    1                   0   \n",
       "2525                             0                    1                   0   \n",
       "2533                             0                    1                   0   \n",
       "2534                             1                    1                   0   \n",
       "\n",
       "      threat_level_undetermined  flee_Car  flee_Foot  flee_Not fleeing  \\\n",
       "0                             0         0          0                 1   \n",
       "1                             0         0          0                 1   \n",
       "2                             0         0          0                 1   \n",
       "3                             0         0          0                 1   \n",
       "4                             0         0          0                 1   \n",
       "...                         ...       ...        ...               ...   \n",
       "2519                          1         0          0                 1   \n",
       "2523                          0         1          0                 0   \n",
       "2525                          0         1          0                 0   \n",
       "2533                          0         1          0                 0   \n",
       "2534                          0         0          0                 1   \n",
       "\n",
       "      flee_Other  body_camera_False  body_camera_True  \n",
       "0              0                  1                 0  \n",
       "1              0                  1                 0  \n",
       "2              0                  1                 0  \n",
       "3              0                  1                 0  \n",
       "4              0                  1                 0  \n",
       "...          ...                ...               ...  \n",
       "2519           0                  1                 0  \n",
       "2523           0                  1                 0  \n",
       "2525           0                  1                 0  \n",
       "2533           0                  0                 1  \n",
       "2534           0                  1                 0  \n",
       "\n",
       "[2311 rows x 138 columns]"
      ]
     },
     "execution_count": 379,
     "metadata": {},
     "output_type": "execute_result"
    }
   ],
   "source": [
    "# Convertir la variable a dependiente a numeros\n",
    "AsesPolicia['race'].replace({'White':0, 'Black':1, 'Hispanic':2, 'Otro':3, 'Asian':4}, inplace=True)\n",
    "AsesPolicia"
   ]
  },
  {
   "cell_type": "markdown",
   "id": "explicit-viking",
   "metadata": {},
   "source": [
    "#### Se prueban diferentes modelos de para ver cual finciona mejor\n",
    "- Naive Bayes\n",
    "- Regresión logística\n",
    "- Support vector machine\n",
    "- Arbol de decision\n",
    "- Random forest\n",
    "- Gradient Boosting\n"
   ]
  },
  {
   "cell_type": "code",
   "execution_count": 380,
   "id": "million-graph",
   "metadata": {},
   "outputs": [],
   "source": [
    "from sklearn.naive_bayes import MultinomialNB \n",
    "from sklearn.linear_model import LogisticRegression\n",
    "from sklearn.svm import LinearSVC\n",
    "from sklearn.tree import DecisionTreeClassifier\n",
    "from sklearn.ensemble import RandomForestClassifier\n",
    "from sklearn.ensemble import GradientBoostingClassifier\n",
    "from sklearn.model_selection import train_test_split\n",
    "from sklearn.preprocessing import PolynomialFeatures\n",
    "from sklearn.model_selection import cross_val_score\n",
    "from sklearn.tree import DecisionTreeClassifier"
   ]
  },
  {
   "cell_type": "markdown",
   "id": "closed-legend",
   "metadata": {},
   "source": [
    "### Se definen las variables independientes y la dependiente"
   ]
  },
  {
   "cell_type": "code",
   "execution_count": 381,
   "id": "respected-polymer",
   "metadata": {},
   "outputs": [],
   "source": [
    "X = np.array(AsesPolicia.drop(['race'],1))\n",
    "y = np.array(AsesPolicia['race'])"
   ]
  },
  {
   "cell_type": "code",
   "execution_count": 382,
   "id": "local-transaction",
   "metadata": {},
   "outputs": [
    {
     "name": "stdout",
     "output_type": "stream",
     "text": [
      "Tenemos 2311 datos en total.\n",
      "El conjunto de datos de entrenamiento (train) tiene 1848 datos.\n",
      "El conjunto de datos de prueba (test) tiene 463 datos.\n",
      "(463,)\n"
     ]
    }
   ],
   "source": [
    "X_train, X_test, y_train, y_test = train_test_split(X, y, test_size=0.2, random_state=42)\n",
    "\n",
    "print(f\"Tenemos {X.shape[0]} datos en total.\")\n",
    "print(f\"El conjunto de datos de entrenamiento (train) tiene {X_train.shape[0]} datos.\")\n",
    "print(f\"El conjunto de datos de prueba (test) tiene {X_test.shape[0]} datos.\")\n",
    "print(y_test.shape)"
   ]
  },
  {
   "cell_type": "markdown",
   "id": "aware-hazard",
   "metadata": {},
   "source": [
    "### Configurar clasificadores"
   ]
  },
  {
   "cell_type": "code",
   "execution_count": 383,
   "id": "economic-palmer",
   "metadata": {},
   "outputs": [],
   "source": [
    "nb = MultinomialNB()\n",
    "logreg = LogisticRegression(class_weight='balanced', max_iter=1000)\n",
    "svm = LinearSVC(class_weight='balanced')\n",
    "dt = DecisionTreeClassifier(class_weight='balanced')\n",
    "model = RandomForestClassifier(n_estimators=1000)\n",
    "model_gb = GradientBoostingClassifier()"
   ]
  },
  {
   "cell_type": "code",
   "execution_count": 384,
   "id": "everyday-match",
   "metadata": {},
   "outputs": [
    {
     "name": "stderr",
     "output_type": "stream",
     "text": [
      "/usr/local/lib/python3.8/dist-packages/sklearn/linear_model/_logistic.py:763: ConvergenceWarning:\n",
      "\n",
      "lbfgs failed to converge (status=1):\n",
      "STOP: TOTAL NO. of ITERATIONS REACHED LIMIT.\n",
      "\n",
      "Increase the number of iterations (max_iter) or scale the data as shown in:\n",
      "    https://scikit-learn.org/stable/modules/preprocessing.html\n",
      "Please also refer to the documentation for alternative solver options:\n",
      "    https://scikit-learn.org/stable/modules/linear_model.html#logistic-regression\n",
      "\n",
      "/usr/local/lib/python3.8/dist-packages/sklearn/svm/_base.py:985: ConvergenceWarning:\n",
      "\n",
      "Liblinear failed to converge, increase the number of iterations.\n",
      "\n"
     ]
    },
    {
     "data": {
      "text/plain": [
       "GradientBoostingClassifier()"
      ]
     },
     "execution_count": 384,
     "metadata": {},
     "output_type": "execute_result"
    }
   ],
   "source": [
    "## Entrenar modelos\n",
    "nb.fit(X_train, y_train)\n",
    "logreg.fit(X_train, y_train)\n",
    "svm.fit(X_train, y_train)\n",
    "dt.fit(X_train, y_train)\n",
    "model.fit(X_train, y_train)\n",
    "model_gb.fit(X_train, y_train)"
   ]
  },
  {
   "cell_type": "code",
   "execution_count": 385,
   "id": "running-sister",
   "metadata": {},
   "outputs": [
    {
     "data": {
      "text/plain": [
       "array([0.52432432, 0.51891892, 0.56756757, 0.44864865, 0.46486486,\n",
       "       0.45945946, 0.43243243, 0.42162162, 0.4673913 , 0.49456522])"
      ]
     },
     "execution_count": 385,
     "metadata": {},
     "output_type": "execute_result"
    }
   ],
   "source": [
    "clf = DecisionTreeClassifier(random_state=0)\n",
    "cross_val_score(clf, X_train, y_train, cv=10)"
   ]
  },
  {
   "cell_type": "markdown",
   "id": "taken-camel",
   "metadata": {},
   "source": [
    "### Realizar predicciones"
   ]
  },
  {
   "cell_type": "code",
   "execution_count": 386,
   "id": "duplicate-carter",
   "metadata": {},
   "outputs": [],
   "source": [
    "y_pred_nb = nb.predict(X_test)\n",
    "y_pred_logreg = logreg.predict(X_test)\n",
    "y_pred_svm = svm.predict(X_test)\n",
    "y_pred_dt = dt.predict(X_test)\n",
    "ypred = model.predict(X_test)\n",
    "y_pred_gb = model_gb.predict(X_test)"
   ]
  },
  {
   "cell_type": "code",
   "execution_count": 387,
   "id": "unsigned-architecture",
   "metadata": {},
   "outputs": [],
   "source": [
    "from sklearn.metrics import accuracy_score, f1_score\n",
    "from sklearn.metrics import precision_score, recall_score\n",
    "from sklearn.metrics import confusion_matrix, classification_report\n",
    "from sklearn import metrics\n",
    "\n",
    "import matplotlib.pyplot as plt\n",
    "from sklearn.metrics import plot_confusion_matrix"
   ]
  },
  {
   "cell_type": "markdown",
   "id": "double-louis",
   "metadata": {},
   "source": [
    "### Generar metricas para cada modelo"
   ]
  },
  {
   "cell_type": "code",
   "execution_count": 388,
   "id": "humanitarian-module",
   "metadata": {},
   "outputs": [
    {
     "name": "stdout",
     "output_type": "stream",
     "text": [
      "Naive Bayes\n",
      "              precision    recall  f1-score   support\n",
      "\n",
      "           0       0.57      0.56      0.57       245\n",
      "           1       0.35      0.48      0.40       115\n",
      "           2       0.42      0.30      0.35        89\n",
      "           3       0.00      0.00      0.00         7\n",
      "           4       0.00      0.00      0.00         7\n",
      "\n",
      "    accuracy                           0.48       463\n",
      "   macro avg       0.27      0.27      0.26       463\n",
      "weighted avg       0.47      0.48      0.47       463\n",
      "\n",
      "\n",
      "Regresión Logística\n",
      "              precision    recall  f1-score   support\n",
      "\n",
      "           0       0.74      0.45      0.56       245\n",
      "           1       0.49      0.55      0.52       115\n",
      "           2       0.47      0.51      0.49        89\n",
      "           3       0.07      0.43      0.12         7\n",
      "           4       0.02      0.14      0.04         7\n",
      "\n",
      "    accuracy                           0.48       463\n",
      "   macro avg       0.36      0.42      0.35       463\n",
      "weighted avg       0.61      0.48      0.52       463\n",
      "\n",
      "\n",
      "SVM\n",
      "              precision    recall  f1-score   support\n",
      "\n",
      "           0       0.53      0.98      0.68       245\n",
      "           1       0.00      0.00      0.00       115\n",
      "           2       0.33      0.01      0.02        89\n",
      "           3       0.00      0.00      0.00         7\n",
      "           4       0.00      0.00      0.00         7\n",
      "\n",
      "    accuracy                           0.52       463\n",
      "   macro avg       0.17      0.20      0.14       463\n",
      "weighted avg       0.34      0.52      0.37       463\n",
      "\n",
      "\n",
      "Árbol de decisión\n",
      "              precision    recall  f1-score   support\n",
      "\n",
      "           0       0.63      0.55      0.59       245\n",
      "           1       0.38      0.43      0.40       115\n",
      "           2       0.34      0.37      0.35        89\n",
      "           3       0.17      0.29      0.21         7\n",
      "           4       0.00      0.00      0.00         7\n",
      "\n",
      "    accuracy                           0.47       463\n",
      "   macro avg       0.30      0.33      0.31       463\n",
      "weighted avg       0.49      0.47      0.48       463\n",
      "\n",
      "\n",
      "Random forest\n",
      "              precision    recall  f1-score   support\n",
      "\n",
      "           0       0.66      0.82      0.73       245\n",
      "           1       0.50      0.44      0.47       115\n",
      "           2       0.56      0.36      0.44        89\n",
      "           3       0.00      0.00      0.00         7\n",
      "           4       0.00      0.00      0.00         7\n",
      "\n",
      "    accuracy                           0.61       463\n",
      "   macro avg       0.34      0.32      0.33       463\n",
      "weighted avg       0.58      0.61      0.59       463\n",
      "\n",
      "\n",
      "Gradient Boosting\n",
      "              precision    recall  f1-score   support\n",
      "\n",
      "           0       0.65      0.78      0.71       245\n",
      "           1       0.50      0.43      0.46       115\n",
      "           2       0.49      0.36      0.42        89\n",
      "           3       0.33      0.14      0.20         7\n",
      "           4       0.00      0.00      0.00         7\n",
      "\n",
      "    accuracy                           0.59       463\n",
      "   macro avg       0.39      0.34      0.36       463\n",
      "weighted avg       0.57      0.59      0.57       463\n",
      "\n",
      "\n"
     ]
    },
    {
     "name": "stderr",
     "output_type": "stream",
     "text": [
      "/usr/local/lib/python3.8/dist-packages/sklearn/metrics/_classification.py:1245: UndefinedMetricWarning:\n",
      "\n",
      "Precision and F-score are ill-defined and being set to 0.0 in labels with no predicted samples. Use `zero_division` parameter to control this behavior.\n",
      "\n",
      "/usr/local/lib/python3.8/dist-packages/sklearn/metrics/_classification.py:1245: UndefinedMetricWarning:\n",
      "\n",
      "Precision and F-score are ill-defined and being set to 0.0 in labels with no predicted samples. Use `zero_division` parameter to control this behavior.\n",
      "\n",
      "/usr/local/lib/python3.8/dist-packages/sklearn/metrics/_classification.py:1245: UndefinedMetricWarning:\n",
      "\n",
      "Precision and F-score are ill-defined and being set to 0.0 in labels with no predicted samples. Use `zero_division` parameter to control this behavior.\n",
      "\n",
      "/usr/local/lib/python3.8/dist-packages/sklearn/metrics/_classification.py:1245: UndefinedMetricWarning:\n",
      "\n",
      "Precision and F-score are ill-defined and being set to 0.0 in labels with no predicted samples. Use `zero_division` parameter to control this behavior.\n",
      "\n",
      "/usr/local/lib/python3.8/dist-packages/sklearn/metrics/_classification.py:1245: UndefinedMetricWarning:\n",
      "\n",
      "Precision and F-score are ill-defined and being set to 0.0 in labels with no predicted samples. Use `zero_division` parameter to control this behavior.\n",
      "\n",
      "/usr/local/lib/python3.8/dist-packages/sklearn/metrics/_classification.py:1245: UndefinedMetricWarning:\n",
      "\n",
      "Precision and F-score are ill-defined and being set to 0.0 in labels with no predicted samples. Use `zero_division` parameter to control this behavior.\n",
      "\n",
      "/usr/local/lib/python3.8/dist-packages/sklearn/metrics/_classification.py:1245: UndefinedMetricWarning:\n",
      "\n",
      "Precision and F-score are ill-defined and being set to 0.0 in labels with no predicted samples. Use `zero_division` parameter to control this behavior.\n",
      "\n",
      "/usr/local/lib/python3.8/dist-packages/sklearn/metrics/_classification.py:1245: UndefinedMetricWarning:\n",
      "\n",
      "Precision and F-score are ill-defined and being set to 0.0 in labels with no predicted samples. Use `zero_division` parameter to control this behavior.\n",
      "\n",
      "/usr/local/lib/python3.8/dist-packages/sklearn/metrics/_classification.py:1245: UndefinedMetricWarning:\n",
      "\n",
      "Precision and F-score are ill-defined and being set to 0.0 in labels with no predicted samples. Use `zero_division` parameter to control this behavior.\n",
      "\n"
     ]
    }
   ],
   "source": [
    "print(\"Naive Bayes\")\n",
    "print(classification_report(y_test, y_pred_nb))\n",
    "print()\n",
    "\n",
    "print(\"Regresión Logística\")\n",
    "print(classification_report(y_test, y_pred_logreg))\n",
    "print()\n",
    "\n",
    "print(\"SVM\")\n",
    "print(classification_report(y_test, y_pred_svm))\n",
    "print()\n",
    "\n",
    "print(\"Árbol de decisión\")\n",
    "print(classification_report(y_test, y_pred_dt))\n",
    "print()\n",
    "\n",
    "print(\"Random forest\")\n",
    "print(classification_report(y_test, ypred))\n",
    "print()\n",
    "\n",
    "print(\"Gradient Boosting\")\n",
    "print(classification_report(y_test, y_pred_gb))\n",
    "print()\n"
   ]
  },
  {
   "cell_type": "markdown",
   "id": "intended-advance",
   "metadata": {},
   "source": [
    "##### Se evidencia que el modelo de random forest da un 60% de accuracy y metricas similares en cuanto a precición, recall y F1 score, esto indica que el accuracy puede ser una medida fiable a la hora de evaluar el modelo.\n",
    "\n",
    "##### En cuanto a la efectividad del modelo resulta baja,  posiblemente esto se da po el desvalance que hay en las clases y que hay muchas categorias para predecir."
   ]
  },
  {
   "cell_type": "code",
   "execution_count": 389,
   "id": "indonesian-whole",
   "metadata": {},
   "outputs": [
    {
     "data": {
      "image/png": "[encoded data removed]",
      "text/plain": [
       "<Figure size 432x288 with 1 Axes>"
      ]
     },
     "metadata": {
      "needs_background": "light"
     },
     "output_type": "display_data"
    }
   ],
   "source": [
    "razas={'White':0, 'Black':1, 'Hispanic':2, 'Otro':3, 'Asian':4}\n",
    "mat = confusion_matrix(y_test, y_pred_gb)\n",
    "sns.heatmap(mat.T, square=True, annot=True, fmt='d', cbar=False,\n",
    "    xticklabels=list(razas.keys()),\n",
    "    yticklabels=list(razas.keys())\n",
    "           )\n",
    "plt.xlabel('true label')\n",
    "plt.ylabel('predicted label');"
   ]
  },
  {
   "cell_type": "markdown",
   "id": "prompt-panama",
   "metadata": {},
   "source": [
    "### Se observa que por el desbalanceo de las clases a medida que la matriz tiende hacia las clases minoritarias pierde la capaicidad de predecir las clases"
   ]
  },
  {
   "cell_type": "markdown",
   "id": "editorial-education",
   "metadata": {},
   "source": [
    "#### Se realiza un intento de crear una red neuronal densa de 3 capas ocultas cada una con 1024 neuronas, pero realmente el resultado fue mejor que los modelos de cladificación"
   ]
  },
  {
   "cell_type": "code",
   "execution_count": 390,
   "id": "entire-mortgage",
   "metadata": {},
   "outputs": [],
   "source": [
    "from tensorflow import keras\n",
    "from tensorflow.keras import layers\n",
    "\n",
    "model = keras.Sequential([\n",
    "    layers.Dense(1024, activation='relu', input_shape=input_shape),\n",
    "    layers.Dropout(0.3),\n",
    "    layers.BatchNormalization(),\n",
    "    layers.Dense(1024, activation='relu'),\n",
    "    layers.Dropout(0.3),\n",
    "    layers.BatchNormalization(),\n",
    "    layers.Dense(1024, activation='relu'),\n",
    "    layers.Dropout(0.3),\n",
    "    layers.BatchNormalization(),\n",
    "    layers.Dense(5),\n",
    "])"
   ]
  },
  {
   "cell_type": "code",
   "execution_count": 391,
   "id": "technological-gambling",
   "metadata": {},
   "outputs": [
    {
     "data": {
      "text/plain": [
       "<AxesSubplot:>"
      ]
     },
     "execution_count": 391,
     "metadata": {},
     "output_type": "execute_result"
    },
    {
     "data": {
      "image/png": "[encoded data removed]",
      "text/plain": [
       "<Figure size 432x288 with 1 Axes>"
      ]
     },
     "metadata": {
      "needs_background": "light"
     },
     "output_type": "display_data"
    }
   ],
   "source": [
    "model.compile(\n",
    "    optimizer='adam',\n",
    "    loss='mae',\n",
    "    metrics = ['accuracy']\n",
    ")\n",
    "\n",
    "history = model.fit(\n",
    "    X_train, y_train,\n",
    "    validation_data=(X_test, y_test),\n",
    "    batch_size=256,\n",
    "    epochs=40,\n",
    "    verbose=0,\n",
    ")\n",
    "\n",
    "\n",
    "# Show the learning curves\n",
    "history_df = pd.DataFrame(history.history)\n",
    "history_df.loc[:, ['loss', 'val_loss']].plot()"
   ]
  },
  {
   "cell_type": "code",
   "execution_count": 392,
   "id": "typical-prior",
   "metadata": {},
   "outputs": [
    {
     "name": "stdout",
     "output_type": "stream",
     "text": [
      "15/15 [==============================] - 0s 5ms/step - loss: 0.7363 - accuracy: 0.1425\n",
      "0.1425485908985138\n"
     ]
    }
   ],
   "source": [
    "    test_loss, test_accuracy = model.evaluate(X_test, y_test)\n",
    "    print(test_accuracy)"
   ]
  }
 ],
 "metadata": {
  "kernelspec": {
   "display_name": "Python 3",
   "language": "python",
   "name": "python3"
  },
  "language_info": {
   "codemirror_mode": {
    "name": "ipython",
    "version": 3
   },
   "file_extension": ".py",
   "mimetype": "text/x-python",
   "name": "python",
   "nbconvert_exporter": "python",
   "pygments_lexer": "ipython3",
   "version": "3.8.5"
  }
 },
 "nbformat": 4,
 "nbformat_minor": 5
}
